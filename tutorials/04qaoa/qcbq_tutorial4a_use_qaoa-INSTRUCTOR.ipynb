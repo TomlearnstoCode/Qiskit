{
 "cells": [
  {
   "cell_type": "markdown",
   "metadata": {},
   "source": [
    "<img src=\"https://github.com/rmlarose/qcbq/blob/master/img/banner.png?raw=true\" alt=\"QCBQ Banner\">"
   ]
  },
  {
   "cell_type": "markdown",
   "metadata": {},
   "source": [
    "# Tutorial 4a: Using the Quantum Approximate Optimization Algorithm"
   ]
  },
  {
   "cell_type": "markdown",
   "metadata": {},
   "source": [
    "<img src=\"https://upload.wikimedia.org/wikipedia/commons/thumb/c/cf/Max-cut.svg/1280px-Max-cut.svg.png\" alt=\"Cartoon graphic of a maximum cut on a weighted graph.\" style=\"width:300px;height:200px;\">"
   ]
  },
  {
   "cell_type": "markdown",
   "metadata": {},
   "source": [
    "**Author:** Ryan LaRose"
   ]
  },
  {
   "cell_type": "markdown",
   "metadata": {},
   "source": [
    "The [QAOA](https://arxiv.org/abs/1411.4028) is a quantum algorithm for approximately solving optimization problems. This notebook will walk you through how to use Qiskit Aqua to solve MaxCut and other combinatorial optimization problems with the QAOA."
   ]
  },
  {
   "cell_type": "markdown",
   "metadata": {},
   "source": [
    "## Learning goals"
   ]
  },
  {
   "cell_type": "markdown",
   "metadata": {},
   "source": [
    "(1) Understand the MaxCut problem and the goal in solving it.\n",
    "\n",
    "(2) Know how to map an optimization problem (e.g., MaxCut) to a QAOA problem using Qiskit.\n",
    "\n",
    "(3) Be able to find the optimal parameters for the circuit using optimizers in Qiskit.\n",
    "\n",
    "(4) Understand how to sample from the QAOA circuit with optimal parameters to obtain approximate solutions."
   ]
  },
  {
   "cell_type": "code",
   "execution_count": null,
   "metadata": {},
   "outputs": [],
   "source": [
    "\"\"\"Imports for the notebook.\"\"\"\n",
    "_req = \"\"\"This notebook is written for\n",
    "\n",
    "qiskit-aqua==0.6.0\n",
    "\n",
    "Your code may not execute properly.\n",
    "\"\"\"\n",
    "import matplotlib.pyplot as plt\n",
    "import networkx as nx\n",
    "import numpy as np\n",
    "import warnings\n",
    "\n",
    "import qiskit\n",
    "if \"0.6\" not in qiskit.__qiskit_version__.get(\"qiskit-aqua\"):\n",
    "    warnings.warn(_req)"
   ]
  },
  {
   "cell_type": "code",
   "execution_count": null,
   "metadata": {},
   "outputs": [],
   "source": [
    "\"\"\"Optional: Turn off warnings for the notebook.\"\"\"\n",
    "warnings.filterwarnings(\"ignore\")"
   ]
  },
  {
   "cell_type": "code",
   "execution_count": null,
   "metadata": {},
   "outputs": [],
   "source": [
    "\"\"\"Specific imports for QAOA with MaxCut.\"\"\"\n",
    "# Import the QAOA object\n",
    "from qiskit.aqua.algorithms.adaptive import QAOA\n",
    "\n",
    "# Import tools for the MaxCut problem\n",
    "from qiskit.aqua.translators.ising.max_cut import (\n",
    "    get_max_cut_qubitops, max_cut_value, random_graph\n",
    ")\n",
    "from qiskit.aqua.operators.weighted_pauli_operator import (\n",
    "    Pauli, WeightedPauliOperator\n",
    ")\n",
    "\n",
    "# Import optimizers in Qiskit for finding the best parameters in the QAOA circuit\n",
    "from qiskit.aqua.components.optimizers import ADAM, AQGD, COBYLA, POWELL"
   ]
  },
  {
   "cell_type": "code",
   "execution_count": null,
   "metadata": {},
   "outputs": [],
   "source": [
    "\"\"\"Helper function for drawing weighted graphs.\n",
    "\n",
    "You don't need to know how this function works. You will see how to use it below.\n",
    "\"\"\"\n",
    "def draw_weighted(graph: nx.Graph,\n",
    "                  pos_color: str = \"blue\",\n",
    "                  neg_color: str = \"red\",\n",
    "                  scale: float = 2.0,\n",
    "                  **kwargs) -> None:\n",
    "    \"\"\"Shows a visual of a graph with edges scaled by weight and colored by sign.\n",
    "    \n",
    "    Args:\n",
    "        graph: The weighted graph to visualize.\n",
    "        pos_color: Color for edges with a positive weight.\n",
    "        neg_color: Color for edges with a negative weight.\n",
    "        scale: Floating point value to scale edge weights by\n",
    "               in the visualization.\n",
    "            \n",
    "    Keyword Args:\n",
    "        cut (List[Int]): A list of 0, 1 values specifying which\n",
    "                         nodes are in which class. The number of\n",
    "                         values must be equal to the number of\n",
    "                         nodes in the graph.\n",
    "    \"\"\"\n",
    "    pos = nx.spring_layout(graph)\n",
    "    if \"cut\" in kwargs.keys():\n",
    "        keys = kwargs[\"cut\"]\n",
    "        if len(keys) != len(graph.nodes):\n",
    "            raise ValueError(\n",
    "                f\"ecolor_key has length {len(keys)} but graph has {len(graph.nodes)} nodes.\"\n",
    "            )\n",
    "        nx.draw_networkx_nodes(graph, pos, node_size=700, node_color=keys, cmap=plt.cm.Greens)\n",
    "    else:\n",
    "        nx.draw_networkx_nodes(graph, pos, node_size=700)\n",
    "    \n",
    "    col = lambda sgn: pos_color if sgn > 0 else neg_color\n",
    "    \n",
    "    for edge in graph.edges:\n",
    "        weight = graph.get_edge_data(*edge)[\"weight\"]\n",
    "        sgn = np.sign(weight)\n",
    "        size = abs(weight)\n",
    "        nx.draw_networkx_edges(graph, \n",
    "                               pos, \n",
    "                               edgelist=[edge], \n",
    "                               width=scale * size,\n",
    "                               edge_color=col(sgn),\n",
    "                               alpha=0.5)\n",
    "    nx.draw_networkx_labels(graph, pos, font_size=20)\n",
    "    plt.axis(\"off\")\n",
    "    plt.show()"
   ]
  },
  {
   "cell_type": "markdown",
   "metadata": {},
   "source": [
    "# Using the QAOA from Qiskit Aqua for MaxCut"
   ]
  },
  {
   "cell_type": "markdown",
   "metadata": {},
   "source": [
    "## Step 1: Define the problem"
   ]
  },
  {
   "cell_type": "markdown",
   "metadata": {},
   "source": [
    "### What's MaxCut?"
   ]
  },
  {
   "cell_type": "markdown",
   "metadata": {},
   "source": [
    "Given a weighted graph $G = (V, E)$ with vertices $V$ and weighted edges $E$, the goal of MaxCut is the following:\n",
    "\n",
    "Partition the vertices $V$ into two sets such that the quantity $\\sum_{e \\in C} w(e)$ is maximal. Here, $w(e)$ is the weight of edge $e$, and $C$ is the set of \"cut edges,\" i.e. edges with vertices in different partitioned sets.\n",
    "\n",
    "Run the cell below to create a random [adjacency matrix](https://en.wikipedia.org/wiki/Adjacency_matrix) representing a weighted graph."
   ]
  },
  {
   "cell_type": "code",
   "execution_count": null,
   "metadata": {
    "scrolled": false
   },
   "outputs": [],
   "source": [
    "\"\"\"Define the graph for MaxCut via an adjacency matrix.\"\"\"\n",
    "nodes = 6  # Vary the number of nodes here\n",
    "matrix = random_graph(n=nodes, edge_prob=0.5, seed=2)\n",
    "print(\"The adjacency matrix is:\")\n",
    "print(matrix)"
   ]
  },
  {
   "cell_type": "markdown",
   "metadata": {},
   "source": [
    "While more convenient to work with mathematically, adjacency matrices are less aesthetic than graph visualizations. Run the cell below to visualize the graph this matrix represents. The provided function `draw_weighted` colors edges by sign of the weight (positive or negative) and scales the edge width proportional to the magnitude of the weight. \n",
    "\n",
    "*Note: Visualizing graphs is a bit of a tricky business. If you get an image that isn't ideal, rerun the cell to get another one.*"
   ]
  },
  {
   "cell_type": "code",
   "execution_count": null,
   "metadata": {},
   "outputs": [],
   "source": [
    "\"\"\"Convert the adjacency matrix to a (weighted) graph and visualize it.\"\"\"\n",
    "graph = nx.from_numpy_array(matrix, parallel_edges=False)\n",
    "draw_weighted(graph)"
   ]
  },
  {
   "cell_type": "markdown",
   "metadata": {},
   "source": [
    "### Try a cut!"
   ]
  },
  {
   "cell_type": "markdown",
   "metadata": {},
   "source": [
    "Remember: To \"win the MaxCut game,\" we have to divide the vertices in this graph into two sets such that a particular value (described above) is maximal. This value is computed for us below by the function `max_cut_value`. \n",
    "\n",
    "**Goal:** Create a partition (cut) by assigning each vertex a value of `0` or `1` via a `numpy.ndarray`. Use the provided function to compute the value for this cut. Update the cut to try and maximize the value."
   ]
  },
  {
   "cell_type": "code",
   "execution_count": null,
   "metadata": {},
   "outputs": [],
   "source": [
    "\"\"\"TODO: Put a list of 1s and 0s to assign vertex sets and see\n",
    "what the value of your cut is.\n",
    "\"\"\"\n",
    "cut = np.array([0, 1, 0, 0, 0, 0])  ### <-- Your code here!\n",
    "print(\"The value of this cut is:\", max_cut_value(cut, matrix))"
   ]
  },
  {
   "cell_type": "markdown",
   "metadata": {},
   "source": [
    "You can visualize your cut by coloring nodes in the graph two colors. An example of doing so is shown below using the `cut` keyword argument to `draw_weighted`."
   ]
  },
  {
   "cell_type": "code",
   "execution_count": null,
   "metadata": {},
   "outputs": [],
   "source": [
    "\"\"\"Visualize the cut by coloring nodes in distinct vertex sets different colors.\"\"\"\n",
    "draw_weighted(graph, cut=[0, 0, 0, 1, 1, 1])"
   ]
  },
  {
   "cell_type": "markdown",
   "metadata": {},
   "source": [
    "**Question:** How many possible cuts are there for a graph with $n$ nodes?"
   ]
  },
  {
   "cell_type": "markdown",
   "metadata": {},
   "source": [
    "<font size=8 color=\"#009600\">&#9998;</font> **Answer:** Answer the above question here!"
   ]
  },
  {
   "cell_type": "markdown",
   "metadata": {},
   "source": [
    "For graphs with a few vertices, we can quickly try all possible cuts and pick the best one. However, for larger graphs, this method is intractable. We need a better method: **the QAOA**!"
   ]
  },
  {
   "cell_type": "markdown",
   "metadata": {},
   "source": [
    "## Step 2: Translate the problem to quantum"
   ]
  },
  {
   "cell_type": "markdown",
   "metadata": {},
   "source": [
    "As hinted at above, the objective function for MaxCut on a graph $G = (V, E)$ can be written\n",
    "\n",
    "\\begin{equation}\n",
    "    H_C = \\frac{1}{2} \\sum_{(i, j) \\in E} w_{ij} (1 - z_i z_j)\n",
    "\\end{equation}\n",
    "\n",
    "where $w_{ij}$ is the weight of edge $(i, j)$ and\n",
    "\n",
    "\\begin{equation}\n",
    "    z_i = \\begin{cases}\n",
    "        1 & \\text{if node $i$ is in set } A \\\\\n",
    "        -1 & \\text{if node $i$ is in set } B \n",
    "    \\end{cases}\n",
    "\\end{equation}\n",
    "\n",
    "Note that here we use *spins* $\\{-1, +1\\}$ instead of *bits* $\\{0, 1\\}$ to label the partitioned sets: The two strategies are of course equivalent.\n",
    "\n",
    "**Question:** Show that spins and bits are equivalent in the sense that there exists a bijection between the two.\n",
    "\n",
    "<font size=8 color=\"#009600\">&#9998;</font> **Answer:** Answer the above question here!\n",
    "\n",
    "**Question:** What is the term $1 - z_i z_j$ if nodes $i$ and $j$ are in the same set? Different sets?\n",
    "\n",
    "<font size=8 color=\"#009600\">&#9998;</font> **Answer:** Answer the above question here!\n",
    "\n",
    "The quantum version of the cost function is the exact same except we \"promote\" the spins to Pauli-$Z$ operators which have eigenvalues in the spin set $\\{-1, +1\\}$. This makes the cost function a *Hamiltonian* (hermitian matrix) instead of just a *scalar* (number). If you know about Pauli's, convince yourself this is a diagonal Hamiltonian in the computational basis."
   ]
  },
  {
   "cell_type": "markdown",
   "metadata": {},
   "source": [
    "In this step, we input an adjacency matrix $W = [w_{ij}]$ describing a weighted graph and output a set of Pauli operators and constant shift which defines the Hamiltonian for the MaxCut cost function."
   ]
  },
  {
   "cell_type": "code",
   "execution_count": null,
   "metadata": {},
   "outputs": [],
   "source": [
    "\"\"\"Pauli operators from matrix.\"\"\"\n",
    "op, shift = get_max_cut_qubitops(matrix)"
   ]
  },
  {
   "cell_type": "code",
   "execution_count": null,
   "metadata": {
    "scrolled": false
   },
   "outputs": [],
   "source": [
    "\"\"\"Inspect the Pauli operators.\"\"\"\n",
    "print(\"Edge set of the graph:\")\n",
    "for edge in graph.edges:\n",
    "    print(\"Weight:\", graph.get_edge_data(*edge)[\"weight\"], \"Edge:\", edge)\n",
    "print(\"\\nWeighted Pauli operators.\")\n",
    "for pauli in op.paulis:\n",
    "    print(2 * np.real(pauli[0]), \"*\", pauli[1].to_label()[::-1])"
   ]
  },
  {
   "cell_type": "markdown",
   "metadata": {},
   "source": [
    "**Question:** Inspect the output of the above cell. What is the relationship between the weighted edges and the weighted Pauli operators?"
   ]
  },
  {
   "cell_type": "markdown",
   "metadata": {},
   "source": [
    "<font size=8 color=\"#009600\">&#9998;</font> **Answer:** Answer the above question here!"
   ]
  },
  {
   "cell_type": "markdown",
   "metadata": {},
   "source": [
    "## Step 3: Define the QAOA circuit(s)"
   ]
  },
  {
   "cell_type": "markdown",
   "metadata": {},
   "source": [
    "Here, we use our Pauli operator from above to make the QAOA instance. We also input a classical optimizer which we will use later, and specify the number of layers $p$ in the QAOA circuit."
   ]
  },
  {
   "cell_type": "code",
   "execution_count": null,
   "metadata": {},
   "outputs": [],
   "source": [
    "\"\"\"Make the QAOA instance.\"\"\"\n",
    "qaoa = QAOA(op, POWELL(), p=1)"
   ]
  },
  {
   "cell_type": "markdown",
   "metadata": {},
   "source": [
    "We can see all the settings and parameters of our QAOA object by doing the following."
   ]
  },
  {
   "cell_type": "code",
   "execution_count": null,
   "metadata": {},
   "outputs": [],
   "source": [
    "\"\"\"See the settings of the QAOA object.\"\"\"\n",
    "print(qaoa.print_settings())"
   ]
  },
  {
   "cell_type": "code",
   "execution_count": null,
   "metadata": {
    "scrolled": true
   },
   "outputs": [],
   "source": [
    "\"\"\"Inspect the circuits.\"\"\"\n",
    "backend = qiskit.BasicAer.get_backend(\"qasm_simulator\")\n",
    "circs = qaoa.construct_circuit([1, 2], backend=backend)\n",
    "\n",
    "print(f\"There are {len(circs)} circuits.\")\n",
    "print(circs[0])"
   ]
  },
  {
   "cell_type": "markdown",
   "metadata": {},
   "source": [
    "**Question:** What is the relationship between the number of circuits and the number of Pauli operators/edges in the graph?"
   ]
  },
  {
   "cell_type": "markdown",
   "metadata": {},
   "source": [
    "<font size=8 color=\"#009600\">&#9998;</font> **Answer:** Answer the above question here!"
   ]
  },
  {
   "cell_type": "markdown",
   "metadata": {},
   "source": [
    "### Visualization: Sweep the leg (parameters)"
   ]
  },
  {
   "cell_type": "markdown",
   "metadata": {},
   "source": [
    "Before running the optimizer to find the best angles, we can select a grid of angles $\\gamma \\times \\beta$ to evaluate the cost on and visualize the landscape. (Note this can also be interpretted as a grid search, a type of optimization.)"
   ]
  },
  {
   "cell_type": "code",
   "execution_count": null,
   "metadata": {},
   "outputs": [],
   "source": [
    "\"\"\"Set the number of points N to define the grid. Larger N ==> longer runtime.\"\"\"\n",
    "N = 10\n",
    "gammas = np.linspace(-np.pi, np.pi, N)\n",
    "betas = np.linspace(-np.pi, np.pi, N)"
   ]
  },
  {
   "cell_type": "code",
   "execution_count": null,
   "metadata": {},
   "outputs": [],
   "source": [
    "\"\"\"Minor hacks for the QAOA instance to make the grid search possible.\n",
    "Run this cell without too much thought -- this is necessary because the way Aqua is set up.\n",
    "\"\"\"\n",
    "quantum_instance = qiskit.aqua.QuantumInstance(backend=qiskit.BasicAer.get_backend(\"qasm_simulator\"))\n",
    "qaoa._quantum_instance = quantum_instance\n",
    "qaoa._use_simulator_operator_mode = True"
   ]
  },
  {
   "cell_type": "code",
   "execution_count": null,
   "metadata": {},
   "outputs": [],
   "source": [
    "\"\"\"Do the grid search and display the progress.\"\"\"\n",
    "import progressbar\n",
    "bar = progressbar.ProgressBar(maxval=N**2)\n",
    "\n",
    "costs = np.zeros((len(gammas), len(betas)), dtype=float)\n",
    "bar.start()\n",
    "for (ii, gamma) in enumerate(gammas):\n",
    "    for (jj, beta) in enumerate(betas):\n",
    "        costs[ii][jj] = qaoa._energy_evaluation(np.array([gamma, beta]))\n",
    "        bar.update(N * ii + jj)\n",
    "bar.finish()"
   ]
  },
  {
   "cell_type": "markdown",
   "metadata": {},
   "source": [
    "Now that we have computed the cost at each point in the grid, we can visualize the landscape. What do you notice about landscape below? Are there any symmetries? Should there be?"
   ]
  },
  {
   "cell_type": "code",
   "execution_count": null,
   "metadata": {},
   "outputs": [],
   "source": [
    "\"\"\"Visualize the landscape.\"\"\"\n",
    "plt.figure(figsize=(7, 7));\n",
    "plt.imshow(costs, origin=(0, 0));\n",
    "plt.xlabel(\"Gammas\")\n",
    "plt.ylabel(\"Betas\")\n",
    "plt.colorbar();"
   ]
  },
  {
   "cell_type": "markdown",
   "metadata": {},
   "source": [
    "**Question:** What is the minimum value of the cost in the above landscape? At which parameter values do they occur?"
   ]
  },
  {
   "cell_type": "markdown",
   "metadata": {},
   "source": [
    "<font size=8 color=\"#009600\">&#9998;</font> **Answer:** Write some code to answer the above question."
   ]
  },
  {
   "cell_type": "code",
   "execution_count": null,
   "metadata": {},
   "outputs": [],
   "source": [
    "\"\"\"Your code here!\"\"\"\n"
   ]
  },
  {
   "cell_type": "code",
   "execution_count": null,
   "metadata": {},
   "outputs": [],
   "source": [
    "\"\"\"Write code to answer the above question here.\"\"\"\n",
    "print(\"Min cost =\", np.min(costs))  # Your code here!"
   ]
  },
  {
   "cell_type": "markdown",
   "metadata": {},
   "source": [
    "## Step 4: Run the optimizer and parse the output"
   ]
  },
  {
   "cell_type": "markdown",
   "metadata": {},
   "source": [
    "Here, we run the optimizer to get the best angles: i.e., the angles which produce the lowest cost value. This will often produce a better minimum cost than a coarse grid search, and executes faster."
   ]
  },
  {
   "cell_type": "code",
   "execution_count": null,
   "metadata": {},
   "outputs": [],
   "source": [
    "\"\"\"Get a quantum instance and run the algorithm.\"\"\"\n",
    "qaoa._optimizer = POWELL()\n",
    "result = qaoa.run(quantum_instance)"
   ]
  },
  {
   "cell_type": "markdown",
   "metadata": {},
   "source": [
    "All the results from running QAOA are stored in the `dict` above. We can inspect this manually, or use getter functions to view the optimal cost."
   ]
  },
  {
   "cell_type": "code",
   "execution_count": null,
   "metadata": {},
   "outputs": [],
   "source": [
    "\"\"\"View the optimal cost.\"\"\"\n",
    "qaoa.get_optimal_cost()"
   ]
  },
  {
   "cell_type": "markdown",
   "metadata": {},
   "source": [
    "**Question:** What is the minimum value of the cost in the above landscape? At which parameter values do they occur?"
   ]
  },
  {
   "cell_type": "markdown",
   "metadata": {},
   "source": [
    "<font size=8 color=\"#009600\">&#9998;</font> **Answer:** Answer the above question here!"
   ]
  },
  {
   "cell_type": "markdown",
   "metadata": {},
   "source": [
    "## Step 5: Sample from the circuit with optimal parameters"
   ]
  },
  {
   "cell_type": "markdown",
   "metadata": {},
   "source": [
    "Now that we have found (approximately) optimal parameters for the circuit, we can sample from the circuit with these parameters. When we sample from the circuit, we sample bit strings $\\{0, 1\\}^n$ (where $n$ is the number of nodes) which tell us (approximately) optimal cuts. The most-frequently measured bit strings produce the lowest cost; bit strings measured very few times produced non-optimal cuts."
   ]
  },
  {
   "cell_type": "code",
   "execution_count": null,
   "metadata": {},
   "outputs": [],
   "source": [
    "\"\"\"Get the circuit with optimal parameters.\"\"\"\n",
    "circ = qaoa.get_optimal_circuit()\n",
    "qreg = circ.qregs[0]\n",
    "creg = qiskit.ClassicalRegister(6)\n",
    "circ.add_register(creg)\n",
    "circ.measure(qreg, creg)\n",
    "print(circ)"
   ]
  },
  {
   "cell_type": "code",
   "execution_count": null,
   "metadata": {},
   "outputs": [],
   "source": [
    "\"\"\"Execute the circuit to sample from it.\"\"\"\n",
    "job = qiskit.execute(circ, backend=backend, shots=100000)\n",
    "res = job.result()\n",
    "counts = res.get_counts()"
   ]
  },
  {
   "cell_type": "code",
   "execution_count": null,
   "metadata": {
    "scrolled": true
   },
   "outputs": [],
   "source": [
    "\"\"\"Visualize the statistics.\"\"\"\n",
    "qiskit.visualization.plot_histogram(counts, figsize=(17, 6))"
   ]
  },
  {
   "cell_type": "markdown",
   "metadata": {},
   "source": [
    "**Question:** Visually, what are a few of the top-sampled bit strings from the above graph?"
   ]
  },
  {
   "cell_type": "markdown",
   "metadata": {},
   "source": [
    "<font size=8 color=\"#009600\">&#9998;</font> **Answer:** Answer the above question here!"
   ]
  },
  {
   "cell_type": "code",
   "execution_count": null,
   "metadata": {},
   "outputs": [],
   "source": [
    "\"\"\"Get the top sampled bit strings.\"\"\"\n",
    "import operator\n",
    "ntop = 10\n",
    "top_cuts = sorted(counts, key=operator.itemgetter(1))\n",
    "print(f\"Top {ntop} sampled cuts.\")\n",
    "for cut in top_cuts[:ntop]:\n",
    "    print(cut[::-1])"
   ]
  },
  {
   "cell_type": "markdown",
   "metadata": {},
   "source": [
    "### Do your top sampled bit strings provide a good cut for the graph?"
   ]
  },
  {
   "cell_type": "code",
   "execution_count": null,
   "metadata": {
    "scrolled": true
   },
   "outputs": [],
   "source": [
    "\"\"\"Select a sampled cut and see its value.\"\"\"\n",
    "cut = np.array([1, 1, 0, 0, 0, 1])  ### <-- Your answer here!\n",
    "print(\"The value of this cut is:\", max_cut_value(cut, matrix))"
   ]
  },
  {
   "cell_type": "markdown",
   "metadata": {},
   "source": [
    "Note, if the cut does not provide an (approximately) optimal value, try re-running the optimizer. If this doesn't work, you may need to increase the number of layers of QAOA (see questions/exercises below). Also, you can try looking at more sampled bit strings."
   ]
  },
  {
   "cell_type": "markdown",
   "metadata": {},
   "source": [
    "## Brute force search for maximum cut"
   ]
  },
  {
   "cell_type": "markdown",
   "metadata": {},
   "source": [
    "If there are a small number of possible cuts for the graph, we can quickly enumerate through all of them and store the maximum cut."
   ]
  },
  {
   "cell_type": "code",
   "execution_count": null,
   "metadata": {
    "scrolled": true
   },
   "outputs": [],
   "source": [
    "\"\"\"Brute force search for the maximum cut.\"\"\"\n",
    "import itertools\n",
    "\n",
    "high = -np.inf\n",
    "conf = np.zeros(nodes)\n",
    "\n",
    "cuts = itertools.product(*[[0, 1]] * nodes)\n",
    "\n",
    "for cut in cuts:\n",
    "    cur = max_cut_value(np.array(cut), matrix)\n",
    "    if cur > high:\n",
    "        conf = np.array(cut)\n",
    "        high = cur\n",
    "\n",
    "print(\"Value of maximum cut:\", high)\n",
    "print(\"Optimal cut:\", conf)"
   ]
  },
  {
   "cell_type": "markdown",
   "metadata": {},
   "source": [
    "You can visualize the graph again here to check if the answer makes sense!"
   ]
  },
  {
   "cell_type": "code",
   "execution_count": null,
   "metadata": {},
   "outputs": [],
   "source": [
    "\"\"\"Visualize the graph to see the maximum cut.\"\"\"\n",
    "draw_weighted(graph, cut=conf)"
   ]
  },
  {
   "cell_type": "markdown",
   "metadata": {},
   "source": [
    "# Questions and exercises"
   ]
  },
  {
   "cell_type": "markdown",
   "metadata": {},
   "source": [
    "### Try a different mixer"
   ]
  },
  {
   "cell_type": "markdown",
   "metadata": {},
   "source": [
    "The QAOA circuit evolves with the cost Hamiltonian $H_C$ for some time $\\gamma$ and then with a **mixer Hamiltonian** (also called a driver Hamiltonian) $H_M$ for some time $\\beta$. At a very high level, the cost Hamiltonian gives information for how to move through the solution space, and the mixer Hamiltonian introduces interference terms. The conventional mixer unitary is an $X$ rotation on each qubit by the same angle $\\beta$:\n",
    "\n",
    "\\begin{equation}\n",
    "    U(\\beta) = e^{-i H_M \\beta} = \\prod_{i = 1}^{n} X_i (\\beta)\n",
    "\\end{equation}\n",
    "\n",
    "Other mixers may give better or worse results. Try experimenting with the `mixer` argument in the Aqua `QAOA` object to see how results vary. You may find [this link](https://github.com/Qiskit/qiskit-aqua/blob/master/qiskit/aqua/algorithms/adaptive/qaoa/qaoa.py) or [this link](https://github.com/Qiskit/qiskit-aqua/blob/ea64d77639929d5b13bdae664d0155f1b9fcfd16/qiskit/aqua/algorithms/adaptive/qaoa/var_form.py#L28) helpful."
   ]
  },
  {
   "cell_type": "markdown",
   "metadata": {},
   "source": [
    "### How do different optimizers compare?"
   ]
  },
  {
   "cell_type": "markdown",
   "metadata": {},
   "source": [
    "We used the `POWELL` optimizer above, but there are others in `aqua.components.optimizers`. Pick a few of these and compare their performance. (How will you compare performance?)"
   ]
  },
  {
   "cell_type": "markdown",
   "metadata": {},
   "source": [
    "### Increasing the number of QAOA layers"
   ]
  },
  {
   "cell_type": "markdown",
   "metadata": {},
   "source": [
    "Can you get a lower cost by increasing the number of layers (the `p` parameter in QAOA)?\n",
    "\n",
    "How does this answer compare to the classical brute force solution?"
   ]
  },
  {
   "cell_type": "markdown",
   "metadata": {},
   "source": [
    "### Try another problem!"
   ]
  },
  {
   "cell_type": "markdown",
   "metadata": {},
   "source": [
    "We used QAOA for the MaxCut problem above, but you can use it for many other combinatorial optimization problems. Pick one (in Qiskit Aqua, or not) and do so!"
   ]
  },
  {
   "cell_type": "markdown",
   "metadata": {},
   "source": [
    "#### Congrats! You just successfully used the QAOA to solve a combinatorial optimization problem."
   ]
  },
  {
   "cell_type": "markdown",
   "metadata": {},
   "source": [
    "# Further reading and resources"
   ]
  },
  {
   "cell_type": "markdown",
   "metadata": {},
   "source": [
    "* [Original QAOA paper](https://arxiv.org/abs/1411.4028).\n",
    "* [QAOA on MaxCut](https://arxiv.org/abs/1811.08419).\n",
    "* [From QAOA to QAOA](https://arxiv.org/abs/1709.03489).\n",
    "* [NASA QAOA Tutorial slides](https://ntrs.nasa.gov/archive/nasa/casi.ntrs.nasa.gov/20190001370.pdf)."
   ]
  }
 ],
 "metadata": {
  "kernelspec": {
   "display_name": "env_qcbq_test",
   "language": "python",
   "name": "env_qcbq_test"
  },
  "language_info": {
   "codemirror_mode": {
    "name": "ipython",
    "version": 3
   },
   "file_extension": ".py",
   "mimetype": "text/x-python",
   "name": "python",
   "nbconvert_exporter": "python",
   "pygments_lexer": "ipython3",
   "version": "3.6.8"
  }
 },
 "nbformat": 4,
 "nbformat_minor": 2
}
