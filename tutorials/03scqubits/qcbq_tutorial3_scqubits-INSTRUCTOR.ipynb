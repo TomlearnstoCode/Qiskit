{
 "cells": [
  {
   "cell_type": "markdown",
   "metadata": {},
   "source": [
    "<img src=\"https://github.com/rmlarose/qcbq/blob/master/img/banner.png?raw=true\">"
   ]
  },
  {
   "cell_type": "markdown",
   "metadata": {},
   "source": [
    "# Tutorial 3: Superconducting Qubits, Noise, and Decoherence"
   ]
  },
  {
   "cell_type": "markdown",
   "metadata": {},
   "source": [
    "<img src=\"https://www.researchgate.net/profile/Graham_Smetham/publication/268052917/figure/download/fig14/AS:668771421286410@1536458940555/Zureks-cartoon-the-two-truths-quantum-and-classical.jpg\">"
   ]
  },
  {
   "cell_type": "markdown",
   "metadata": {},
   "source": [
    "**Authors:** Ryan LaRose and Justin Lane."
   ]
  },
  {
   "cell_type": "markdown",
   "metadata": {},
   "source": [
    "Many different physical systems can realize quantum bits. Among them, superconducting qubits are a current top contendor. This notebook serves as a tutorial for superconducting qubits in particular, but many concepts apply to the general qubit. We look in detail at *energy dissipation* and *decoherence* (or, the quantum-to-classical transition)."
   ]
  },
  {
   "cell_type": "markdown",
   "metadata": {},
   "source": [
    "## Learning goals"
   ]
  },
  {
   "cell_type": "markdown",
   "metadata": {},
   "source": [
    "(1) Understand how microwave pulses can manipulate superconducting qubits.\n",
    "\n",
    "(2) Be able to define T1 and T2 times, and set up an experiment to measure them.\n",
    "\n",
    "(3) Visualize pulse sequences in `qiskit.pulse`.\n",
    "\n",
    "(4) Perform data-fitting to measure T1 and T2 times on IBM quantum devices."
   ]
  },
  {
   "cell_type": "markdown",
   "metadata": {},
   "source": [
    "## Helpful background"
   ]
  },
  {
   "cell_type": "markdown",
   "metadata": {},
   "source": [
    "* Plotting data in Python using `matplotlib.pyplot`. \n",
    "* Data fitting in Python using `scipy.optimize.curve_fit`. See [here](https://docs.scipy.org/doc/scipy/reference/generated/scipy.optimize.curve_fit.html) for a reference.\n",
    "* Quantum mechanics for understanding single qubit Hamiltonians/gates. (Not mandatory!)"
   ]
  },
  {
   "cell_type": "code",
   "execution_count": null,
   "metadata": {},
   "outputs": [],
   "source": [
    "\"\"\"Imports.\"\"\"\n",
    "import matplotlib.pyplot as plt\n",
    "import numpy as np\n",
    "import scipy as scp\n",
    "\n",
    "from IPython.display import clear_output, display\n",
    "\n",
    "import qiskit.pulse as pulse\n",
    "import qiskit"
   ]
  },
  {
   "cell_type": "code",
   "execution_count": null,
   "metadata": {},
   "outputs": [],
   "source": [
    "\"\"\"Plotting style.\"\"\"\n",
    "%matplotlib inline\n",
    "plt.rcParams.update({\"font.size\": 16, \"font.weight\": \"bold\"})"
   ]
  },
  {
   "cell_type": "markdown",
   "metadata": {},
   "source": [
    "## How to manipulate qubits with pulses"
   ]
  },
  {
   "cell_type": "markdown",
   "metadata": {},
   "source": [
    "This section is fairly technical. Those with appropriate background (at least quantum mechanics) will gain a working understanding of how qubits are manipulated; those without such a background will likely not benefit from this section. For the latter group, you can **safely skip to the next section with the following message...**\n",
    "\n",
    "**Big picture takeaway:** We perform quantum gates on superconducting qubits by sending microwave pulses through control lines."
   ]
  },
  {
   "cell_type": "markdown",
   "metadata": {},
   "source": [
    "### The Qubit Hamiltonian"
   ]
  },
  {
   "cell_type": "markdown",
   "metadata": {},
   "source": [
    "*Note: This section gives a brief exposition. More details can be found in Section III of this [paper](https://arxiv.org/abs/1904.06560).*"
   ]
  },
  {
   "cell_type": "markdown",
   "metadata": {},
   "source": [
    "<img src=\"https://github.com/rmlarose/qcbq/blob/master/img/LC_JC_circuit.png?raw=true\">"
   ]
  },
  {
   "cell_type": "markdown",
   "metadata": {},
   "source": [
    "To a physicist a qubit is any two level quantum system, or two levels of a higher dimensional quantum system that we can isolate. For example, we could make a qubit out of a spin-1/2 particle in a magnetic field, with $|0\\rangle$ being the spin down configuration and $|1\\rangle$ being the spin up configuration. We could also make a qubit out of the $n=0$ (ground) and $n=1$ (first excited) states of a quantum harmonic oscillator (provided we have a way of isolating those two states from the rest of the harmonic oscillator ladder!)\n",
    "\n",
    "Superconducting qubits take the second route: physicsts and engineers use **Josephson junctions**, a type of superconducting element that acts like a nonlinear inductor, to create **anharmonic oscillators** to use as qubits. When quantized, a regular LC oscillator (left) is simply a harmonic oscillator, with equal energy level spacings ($\\hbar\\omega_{01} = \\hbar\\omega_{12} =~...$). In this configuration, even if we only want to work with the $n=0$ and $n=1$ states, there is nothing stopping us from accidentally exciting the oscillator into the $n=2,3,4...$ states. However, when we replace the inductor with a josephson junction (right) we get an anharmonic oscillator with $\\hbar\\omega_{01} \\neq \\hbar\\omega_{12}$. The unevenly spaced energy levels allow confine ourselves to the the lowest two levels (the **computational subspace**) of the harmonic oscillator ladder, and call those two levels our qubit.\n",
    "\n",
    "The general Hamiltonian for a qubit in a time dependent electric field may be written as\n",
    "\n",
    "\\begin{equation}\n",
    "    H = - \\frac{\\hbar\\omega_q}{2} \\sigma_{z} + \\mathbf{d}\\cdot\\mathbf{E}(t) \\sigma_{x}  = - \\frac{\\hbar\\omega_q}{2} \\sigma_{z} + \\hbar\\Omega\\epsilon(t) \\sigma_{x}\n",
    "\\end{equation}\n",
    "\n",
    "Here, $\\omega_q$ is the **qubit frequency** (anharmonic oscillator $\\omega_{01}$ in our case), $\\mathbf{E}$ is the electric field, and $\\mathbf{d}$ is the \"dipole moment\" of the qubit (a measure of how the qubit couples to applied electric fields). The qubit frequency $\\omega_q$ and dipole moment $\\mathbf{d}$ are determined by parameters of the circuit (e.g., capicatance and inductance). In the second equation, we've combined $\\mathbf{E}$ and $\\mathbf{d}$ into a **drive strength** $\\Omega$ and a unitless electric field $\\epsilon(t)$.  As usual, the $\\sigma$'s are Paulis\n",
    "\n",
    "\\begin{equation}\n",
    "    \\sigma_{x} := \\left[ \\begin{matrix}\n",
    "    0 & 1 \\\\\n",
    "    1 & 0 \\\\\n",
    "    \\end{matrix} \\right]\n",
    "    \\qquad\n",
    "    \\text{and}\n",
    "    \\qquad\n",
    "    \\sigma_{y} := \\left[ \\begin{matrix}\n",
    "    0 & -i \\\\\n",
    "    i & 0 \\\\\n",
    "    \\end{matrix} \\right]\n",
    "    \\qquad\n",
    "    \\text{and}\n",
    "    \\qquad\n",
    "    \\sigma_{z} := \\left[ \\begin{matrix}\n",
    "    1 & 0 \\\\\n",
    "    0 & -1 \\\\\n",
    "    \\end{matrix} \\right] .\n",
    "\\end{equation}"
   ]
  },
  {
   "cell_type": "markdown",
   "metadata": {},
   "source": [
    "### The drive Hamiltonian"
   ]
  },
  {
   "cell_type": "markdown",
   "metadata": {},
   "source": [
    "We generally design our qubits to have frequencies $\\omega_q$ in the several gigahertz range: this is because we manipulate qubits using nearly resonant electromagnetic fields, and microwave electronics have been extensively developed by the telecom industry.\n",
    "\n",
    "In this spirit, we'll write our unitless electric field as an *envelope function* $s(t)$ multiplied by a sinusoid oscillating at some drive frequency $\\omega_d$:\n",
    "\n",
    "$$\\epsilon(t) = s(t)\\cos(\\omega_dt + \\phi)$$ \n",
    "\n",
    "Which makes our entire Hamiltonian\n",
    "\n",
    "$$ H =  - \\frac{\\hbar\\omega_q}{2} \\sigma_{z} + \\hbar\\Omega s(t)\\cos(\\omega_dt + \\phi)\\sigma_{x}$$\n",
    "\n",
    "It is now convenient to transform this Hamiltonian into the frame *rotating at the drive frequency* $\\omega_q$, which simplifies the dynamics of the Hamiltonian (see *Technical Note 1* at the end of the notebook). In this frame (and in the [rotating wave approximation](https://en.wikipedia.org/wiki/Rotating_wave_approximation)), the Hamiltonian takes the form \n",
    "\n",
    "\\begin{equation}\n",
    "    \\tilde{H} = -\\frac{\\hbar}{2}\\left[ \\begin{matrix}\n",
    "    \\delta\\omega & \\Omega s(t)e^{-i\\phi} \\\\\n",
    "    \\Omega s(t)e^{i\\phi} & -\\delta\\omega \\\\\n",
    "    \\end{matrix} \\right]\n",
    "\\end{equation}\n",
    "\n",
    "where $\\delta\\omega = \\omega_q - \\omega_d$ is the qubit/drive **detuning**.\n",
    "\n",
    "The Hamiltonian above can be split into two terms $\\tilde{H} = \\tilde{H}_q + \\tilde{H}_d$\n",
    "\n",
    "\n",
    "where \n",
    "\n",
    "\\begin{equation}\n",
    "    \\tilde{H}_q = -\\frac{\\hbar}{2}\\left[ \\begin{matrix}\n",
    "        \\delta\\omega & 0 \\\\\n",
    "        0 & -\\delta\\omega \\\\\n",
    "        \\end{matrix} \\right] \\qquad \\textbf{(qubit Hamiltonian)}\n",
    "\\end{equation}\n",
    "\n",
    "and\n",
    "\n",
    "\\begin{equation}\n",
    "    \\tilde{H}_d = -\\frac{\\hbar \\Omega s(t)}{2}\\left[ \\begin{matrix}\n",
    "    0 & e^{-i\\phi} \\\\\n",
    "    e^{i\\phi} & 0 \\\\\n",
    "    \\end{matrix} \\right] \\qquad \\textbf{(drive Hamiltonian)}\n",
    "\\end{equation}\n",
    "\n",
    "For the term $e^{i \\phi} = cos \\phi + i \\sin \\phi$, we often define\n",
    "\n",
    "\\begin{align}\n",
    "I &:= \\cos (\\phi) \\qquad \\text{(the \"in-phase\" component)} \\\\\n",
    "Q &:= \\sin (\\phi) \\qquad \\text{(the \"out-of-phase\" or \"quadrature\" component)}\n",
    "\\end{align}\n",
    "\n",
    "for convenience."
   ]
  },
  {
   "cell_type": "markdown",
   "metadata": {},
   "source": [
    "### Implementing single qubit gates"
   ]
  },
  {
   "cell_type": "markdown",
   "metadata": {},
   "source": [
    "**Question:** Show that if we apply a pulse at the qubit frequency, i.e., $\\delta\\omega = 0$, then\n",
    "\n",
    "\\begin{equation}\n",
    "    \\tilde{H} = \\tilde{H}_d = - \\frac{\\hbar\\Omega}{2}s(t)( I \\sigma_x + Q \\sigma_y) .\n",
    "\\end{equation}\n"
   ]
  },
  {
   "cell_type": "markdown",
   "metadata": {},
   "source": [
    "<font size=8 color=\"#009600\">&#9998;</font> **Answer:** Answer the above question here!"
   ]
  },
  {
   "cell_type": "markdown",
   "metadata": {},
   "source": [
    "Thus, for a pulse at the qubit frequency, an *in-phase pulse* ($\\phi = 0 \\implies Q = 0$) corresponds to rotating the qubit about the $x$-axis. Similarly, an *out-of-phase pulse* ($\\phi = \\pi / 2 \\implies I = 0$) corresponds to rotating the qubit about the $y$-axis. \n",
    "\n",
    "How long should we apply the pulse for? Solving Schrodinger's equation with, for example, the in-phase pulse above, we have\n",
    "\n",
    "\\begin{equation}\n",
    "    U(t) = \\exp \\left ( \\left[ \\frac{i}{2} \\Omega V_0 \\int_{0}^{t} s(t') \\, dt' \\right] \\sigma_x \\right) \n",
    "\\end{equation}\n",
    "\n",
    "One can see this is the standard form of an $x$-rotation with angle\n",
    "\n",
    "\\begin{equation}\n",
    "    \\Theta(t) := - \\Omega V_0 \\int_{0}^{t} s(t') \\, dt'\n",
    "\\end{equation}\n",
    "\n",
    "If we want to rotate by, say, $\\pi / 2$ radians about the $x$-axis, we thus solve the equation $\\Theta(t) = \\pi / 2$ for time $t$. This then tells us how long to apply the pulse. "
   ]
  },
  {
   "cell_type": "markdown",
   "metadata": {},
   "source": [
    "**Question**: Suppose your adviser came into the lab and demanded that all your qubit pulses have an envelope function of the form $s(t) = - t$. How long should you apply an in-phase pulse to implement a NOT gate: i.e., a rotation about the $x$-axis by $\\pi$ radians. Express your answer in terms of $\\Omega$. "
   ]
  },
  {
   "cell_type": "markdown",
   "metadata": {},
   "source": [
    "<font size=8 color=\"#009600\">&#9998;</font> **Answer:** Answer the above question here!"
   ]
  },
  {
   "cell_type": "markdown",
   "metadata": {},
   "source": [
    "## Qiskit Pulse"
   ]
  },
  {
   "cell_type": "markdown",
   "metadata": {},
   "source": [
    "Qiskit has a module called `Pulse` for creating pulse sequences and manipulating qubits using the techniques discussed above. This is nice functionality because it is at a lower level than the standard gates provided in Qiskit (e.g., $H$, $X$, $Y$, etc.). Unfortunately, we could not get access to `Pulse` for the bootcamp... but we did get access to real experimental data obtained using `Pulse`. We will use this to calibrate and benchmark the superconducting qubits on IBM Q devices, and we will learn the techniques to do so. \n",
    "\n",
    "\n",
    "Although we cannot currently use `Pulse`, the next cells show *how* we would use it (or, at least, set it up) if we had access to the `ibmq-poughkeepsie` device. More details on how to construct pulse sequences and run them on the Poughkeepsie device can be found [in this notebook](https://community.qiskit.org/textbook/ch-quantum-hardware/calibrating-qubits-openpulse.html)."
   ]
  },
  {
   "cell_type": "code",
   "execution_count": null,
   "metadata": {},
   "outputs": [],
   "source": [
    "\"\"\"Load account: Only do this once.\"\"\"\n",
    "qiskit.IBMQ.load_account()"
   ]
  },
  {
   "cell_type": "code",
   "execution_count": null,
   "metadata": {},
   "outputs": [],
   "source": [
    "\"\"\"Get a provider and see available backends.\"\"\"\n",
    "provider = qiskit.IBMQ.get_provider(hub=\"ibm-q\")\n",
    "print(\"Available backends:\", *provider.backends())"
   ]
  },
  {
   "cell_type": "code",
   "execution_count": null,
   "metadata": {},
   "outputs": [],
   "source": [
    "\"\"\"Select ibmq-poughkeepsie device to use Pulse.\"\"\"\n",
    "# backend = provider.get_backend(\"ibmq_poughkeepsie\")\n",
    "# config = backend.configuration()\n",
    "# defaults = backend.defaults()"
   ]
  },
  {
   "cell_type": "code",
   "execution_count": null,
   "metadata": {
    "scrolled": true
   },
   "outputs": [],
   "source": [
    "\"\"\"Get a pulse channel system.\"\"\"\n",
    "# system = pulse.PulseChannelSpec.from_backend(backend)"
   ]
  },
  {
   "cell_type": "markdown",
   "metadata": {},
   "source": [
    "Once you had `Pulse` imported and setup (if you had access), you could use it to apply precise pulse sequences to qubits. Although we cannot apply the pulses ourselves, other people can -- and have! In what follows, we will analyze multiple experiments at the \"pulse level\" and use data fitting techniques to determine qubit frequency, T1 time, and T2 time (to be defined below)."
   ]
  },
  {
   "cell_type": "markdown",
   "metadata": {},
   "source": [
    "## Benchmarking qubits: Measuring frequency, T1, and T2 times"
   ]
  },
  {
   "cell_type": "markdown",
   "metadata": {},
   "source": [
    "Now that we understand qubits and pulses, we can begin benchmarking qubits. The properties we will investigate are **energy dissipation** and **decoherence**."
   ]
  },
  {
   "cell_type": "markdown",
   "metadata": {},
   "source": [
    "## Energy dissipation and T1"
   ]
  },
  {
   "cell_type": "markdown",
   "metadata": {},
   "source": [
    "The state $|0\\rangle$ is the ground state of the qubit, and the state $|1\\rangle$ is the excited state, meaning the qubit has more energy in this state. Due to environmental interactions (e.g., exchanging energy with a photon), a qubit in the $|1\\rangle$ state will lose energy and eventually \"decay\" into the ground state. Experimentally, this decay follows an exponential curve with exponent proportional to $1 / T_1$, where $T_1$ has units of time.\n",
    "\n",
    "Explicitly, the probability of finding an excited qubit in the ground state after time $t$ is found to be\n",
    "\n",
    "$$ p_0(t) = e^{ - t / T_1 } $$ "
   ]
  },
  {
   "cell_type": "markdown",
   "metadata": {},
   "source": [
    "### How to measure T1"
   ]
  },
  {
   "cell_type": "markdown",
   "metadata": {},
   "source": [
    "The definition of T1 suggests a simple way to measure it.\n",
    "\n",
    "1. Put the qubit in the $|1\\rangle$ (excited) state.\n",
    "1. Wait a time $t$.\n",
    "1. Measure the qubit.\n",
    "\n",
    "This is exactly how T1 times are measured in the lab. The process is illustrated in the animation below using the [Bloch sphere](https://en.wikipedia.org/wiki/Bloch_sphere), a graphical means of representing the state of a single qubit."
   ]
  },
  {
   "cell_type": "code",
   "execution_count": null,
   "metadata": {},
   "outputs": [],
   "source": [
    "\"\"\"Video showing conceptual visualization of the above experiment on the Bloch sphere.\"\"\"\n",
    "from IPython.display import YouTubeVideo\n",
    "YouTubeVideo(\"g10PIHQ65L4\", width=640, height=360)"
   ]
  },
  {
   "cell_type": "markdown",
   "metadata": {},
   "source": [
    "We start in the ground state $|0\\rangle$, then put the qubit in the excited state $|1\\rangle$. After waiting some time $t$, the qubit loses energy to its environment and is in a mixed state $\\rho = p_0 |0\\rangle\\langle0| + p_1 |1\\rangle\\langle1|$, which corresponds to a point on the $z$-axis of the Bloch sphere with radius $|r| \\le 1$. "
   ]
  },
  {
   "cell_type": "markdown",
   "metadata": {},
   "source": [
    "### Pulse sequence"
   ]
  },
  {
   "cell_type": "markdown",
   "metadata": {},
   "source": [
    "The pulse sequence for measuring T1 simply translates the above process. We apply an in-phase $\\pi$-pulse at the qubit frequency to excite it from $|0\\rangle$ to $|1\\rangle$. Then we wait for a time $t$ and finally apply a measurement pulse. The entire pulse sequence is shown in the diagram below, made using Qiskit Pulse. Here, the `d1` channel denotes the drive channel (for qubit 1), and `m1` denotes the measurement channel (for qubit 1). The horizontal axis shows time in microseconds."
   ]
  },
  {
   "cell_type": "markdown",
   "metadata": {},
   "source": [
    "<img src=\"https://github.com/rmlarose/qcbq/blob/master/img/t1-pulse-schedule.png?raw=true\" style=\"width:500px;height:300px;\">"
   ]
  },
  {
   "cell_type": "markdown",
   "metadata": {},
   "source": [
    "**Question:** Could we also use an *out-of-phase* (instead of *in-phase*) $\\pi$-pulse at the qubit frequency in the above pulse sequence? Why or why not?"
   ]
  },
  {
   "cell_type": "markdown",
   "metadata": {},
   "source": [
    "<font size=8 color=\"#009600\">&#9998;</font> **Answer:** Answer the above question here!"
   ]
  },
  {
   "cell_type": "markdown",
   "metadata": {},
   "source": [
    "### Raw data"
   ]
  },
  {
   "cell_type": "markdown",
   "metadata": {},
   "source": [
    "This experiment was performed using `Pulse` with the above pulse schedule. The raw data can be read by executing the following cell."
   ]
  },
  {
   "cell_type": "code",
   "execution_count": null,
   "metadata": {},
   "outputs": [],
   "source": [
    "\"\"\"Load in the raw data.\"\"\"\n",
    "data = data = np.loadtxt(\"https://raw.githubusercontent.com/rmlarose/qcbq/master/data/t1_data.txt\")\n",
    "times = data[:, 1]  # microseconds\n",
    "measurements = data[:, 0]  # probability of excited state"
   ]
  },
  {
   "cell_type": "markdown",
   "metadata": {},
   "source": [
    "The data file is formatted as follows. The array `times` contains the \"wait time\" (step 2 above) in microseconds, and the `measurements` array contains the frequency that the excited state was measured."
   ]
  },
  {
   "cell_type": "markdown",
   "metadata": {},
   "source": [
    "<font size=8 color=\"#009600\">&#9998;</font> **Do this:** In the following cell, make a plot of the raw data obtained from the experiment. Your plot should have time on the horizontal axis and probability (frequency) of measuring the excited state on the vertical axis. Axis labels and a title never hurt anyone!"
   ]
  },
  {
   "cell_type": "code",
   "execution_count": null,
   "metadata": {
    "scrolled": true
   },
   "outputs": [],
   "source": [
    "\"\"\"Plot the raw data.\"\"\"\n",
    "### Your code here!\n",
    "plt.figure(figsize=(12, 5))\n",
    "plt.plot(times, measurements, \"--o\", linewidth=3);\n",
    "plt.xlabel(\"Time [microseconds]\");\n",
    "plt.ylabel(\"Probability of excited state\");\n",
    "plt.title(\"T1 measurement data\")\n",
    "plt.grid();\n",
    "plt.show()"
   ]
  },
  {
   "cell_type": "markdown",
   "metadata": {},
   "source": [
    "### Fitting"
   ]
  },
  {
   "cell_type": "markdown",
   "metadata": {},
   "source": [
    "We will now fit the data to an exponential curve to calculate the $T_1$ time."
   ]
  },
  {
   "cell_type": "markdown",
   "metadata": {},
   "source": [
    "<font size=8 color=\"#009600\">&#9998;</font> **Do this:** In the following cell, define a function with `time` as the first argument and `T1` as the second argument, The function should return the exponential $e^{-t / T_1}$. "
   ]
  },
  {
   "cell_type": "code",
   "execution_count": null,
   "metadata": {},
   "outputs": [],
   "source": [
    "\"\"\"Do the data fitting.\"\"\"\n",
    "def fit(time: float, T1: float) -> float:\n",
    "    return np.exp(-time / T1)  ### Your code here!"
   ]
  },
  {
   "cell_type": "markdown",
   "metadata": {},
   "source": [
    "<font size=8 color=\"#009600\">&#9998;</font> **Do this:** In the following cell, use `scipy.optimize.curve_fit` or your favorite data-fitting tool to fit the exponential to the raw data."
   ]
  },
  {
   "cell_type": "code",
   "execution_count": null,
   "metadata": {},
   "outputs": [],
   "source": [
    "\"\"\"Use scipy.optimize.curve_fit to fit the data.\"\"\"\n",
    "### Your code here!\n",
    "optimal_params, covariance = scp.optimize.curve_fit(fit, times, measurements)\n",
    "print(f\"Computed T1 value: {round(optimal_params[0], 3)} microseconds.\")"
   ]
  },
  {
   "cell_type": "markdown",
   "metadata": {},
   "source": [
    "**Question:** What is your computed $T_1$ time? (Remember units!)"
   ]
  },
  {
   "cell_type": "markdown",
   "metadata": {},
   "source": [
    "<font size=8 color=\"#009600\">&#9998;</font> **Answer:** Answer the above question here!"
   ]
  },
  {
   "cell_type": "markdown",
   "metadata": {},
   "source": [
    "To make sure we got a good fit, it's always a good idea to plot the fit over the data."
   ]
  },
  {
   "cell_type": "markdown",
   "metadata": {},
   "source": [
    "<font size=8 color=\"#009600\">&#9998;</font> **Do this:** In the following cell, plot the computed best-fit exponential curve and the raw data in the same plot."
   ]
  },
  {
   "cell_type": "code",
   "execution_count": null,
   "metadata": {
    "scrolled": true
   },
   "outputs": [],
   "source": [
    "\"\"\"Plot your fit over the raw data here.\"\"\"\n",
    "### Your code here!\n",
    "# Compute the fit\n",
    "fitvals = fit(times, *optimal_params)\n",
    "\n",
    "# Plot the fit and data\n",
    "plt.figure(figsize=(12, 5))\n",
    "plt.plot(times, measurements, \"-.\", linewidth=2, label=\"Data\");\n",
    "plt.plot(times, fitvals, \"-\", linewidth=4, label=\"Fit\");\n",
    "plt.xlabel(\"Time [microseconds]\");\n",
    "plt.ylabel(\"Frequency of excited state\");\n",
    "plt.title(\"T1 measurement data\");\n",
    "plt.legend();\n",
    "plt.grid();\n",
    "plt.text(20, 0.8, rf\"T1 = {round(optimal_params[0], 3)} $\\mu$s\")\n",
    "plt.show()"
   ]
  },
  {
   "cell_type": "markdown",
   "metadata": {},
   "source": [
    "**Congrats!** You just measured the $T_1$ time of a superconducting qubit. Every few hours, the IBM Q devices are re-calibrated and fresh values of $T_1$ are put online. The method they use is the same method above."
   ]
  },
  {
   "cell_type": "markdown",
   "metadata": {},
   "source": [
    "**Question**: Search online for IBMQ devices. What are typical T1 values for some qubits/devices? (This [link](https://github.com/Qiskit/ibmq-device-information) may be useful.)"
   ]
  },
  {
   "cell_type": "markdown",
   "metadata": {},
   "source": [
    "<font size=8 color=\"#009600\">&#9998;</font> **Answer:** Answer the above question here!"
   ]
  },
  {
   "cell_type": "markdown",
   "metadata": {},
   "source": [
    "## Measure T2 time"
   ]
  },
  {
   "cell_type": "markdown",
   "metadata": {},
   "source": [
    "When qubits interact with their environment, they lose more than just energy. **Coherence**, a defining feature of quantum mechanics and key departure from the classical world, is the ability for \"particles\" to exist in a superposition of (basis) states. For a single qubit, a coherent state can thus be written\n",
    "\n",
    "\\begin{equation}\n",
    "    |\\psi\\rangle = \\alpha |0\\rangle + \\beta |1\\rangle .\n",
    "\\end{equation}\n",
    "\n",
    "In the density matrix formalism, we may equivalently write\n",
    "\n",
    "\\begin{equation}\n",
    "    \\rho \\equiv |\\psi\\rangle \\langle \\psi| = \\left[ \\begin{matrix} \n",
    "     |\\alpha|^2 & \\alpha \\beta^* \\\\\n",
    "     \\alpha^* \\beta & |\\beta|^2 \n",
    "    \\end{matrix} \\right]\n",
    "\\end{equation}\n",
    "\n",
    "Note that the superposition is directly responsible for the off-diagonal terms in this matrix. Without superposition, diagonal elements are zero. (See *Technical Note 2* at the end of the notebook.)"
   ]
  },
  {
   "cell_type": "markdown",
   "metadata": {},
   "source": [
    "**Question:** Show that the density matrix of $|\\psi\\rangle = |0\\rangle$ has off-diagonal elements equal to zero. In particular, show that the density matrix is\n",
    "\n",
    "\\begin{equation}\n",
    "    \\rho \\equiv |\\psi\\rangle \\langle \\psi| = \\left[ \\begin{matrix} \n",
    "     1 & 0 \\\\\n",
    "     0 & 0\n",
    "    \\end{matrix} \\right]\n",
    "\\end{equation}"
   ]
  },
  {
   "cell_type": "markdown",
   "metadata": {},
   "source": [
    "<font size=8 color=\"#009600\">&#9998;</font> **Answer:** Answer the above question here!"
   ]
  },
  {
   "cell_type": "markdown",
   "metadata": {},
   "source": [
    "Experimentally, coherence is found to decay exponentially. Such a loss of coherence due to environmental interactions is called **decoherence**. A model of the density matrix decohering can be written\n",
    "\n",
    "\\begin{equation}\n",
    "    \\rho (t) = \\left[ \\begin{matrix} \n",
    "     |\\alpha|^2 & \\alpha \\beta^* e^{- t / T_2} \\\\\n",
    "     \\alpha^* \\beta e^{-t / T_2} & |\\beta|^2 \n",
    "    \\end{matrix} \\right] .\n",
    "\\end{equation}\n",
    "\n",
    "We will now do two experiments to measure the $T_2$ time of superconducting qubits. "
   ]
  },
  {
   "cell_type": "markdown",
   "metadata": {},
   "source": [
    "## Ramsey interferometry"
   ]
  },
  {
   "cell_type": "markdown",
   "metadata": {},
   "source": [
    "One way to determine $T_2$ is to do a so-called Ramsey experiment or Ramsey pulse sequence."
   ]
  },
  {
   "cell_type": "markdown",
   "metadata": {},
   "source": [
    "This experiment starts in the ground state, then puts the qubit on the $y$-axis of the Bloch sphere. After a time $t$, the sphere contracts in the $xy$-plane (i.e., decoheres) due to interactions with the environment. A final $\\pi/2$ pulse puts the qubit back on the $z$-axis in a mixed state $\\rho = p_0 |0\\rangle \\langle0| + p_1 |1\\rangle \\langle 1|$, then the qubit is measured.\n",
    "\n",
    "During step 2 (the \"waiting\" step), the Hamiltonian of the system is, from above, \n",
    "\n",
    "\\begin{equation}\n",
    "    \\tilde{H} = -\\frac{\\hbar}{2}\\left[ \\begin{matrix}\n",
    "    \\delta\\omega & 0 \\\\\n",
    "    0 & -\\delta\\omega \\\\\n",
    "    \\end{matrix} \\right] = -\\frac{\\hbar\\delta\\omega}{2}\\sigma_z\n",
    "\\end{equation}\n",
    "\n",
    "If the qubit is slightly detuned from the drive frequency (i.e., $\\delta \\omega = 0$), this is equivalent to applying a constant rotation about the $z$-axis of the Bloch sphere. The qubit state vector, in addition to decohering, will also slowly precess around the Bloch sphere at angular frequency $\\delta\\omega$, which will cause our decoherence data to have a sinusoidal component superimposed on it. We may extract $\\delta\\omega$ (and therefore $\\omega_q$) from the frequency of this sinusoidal component. \n",
    "\n",
    "The video below shows the above description on the Bloch sphere."
   ]
  },
  {
   "cell_type": "code",
   "execution_count": null,
   "metadata": {},
   "outputs": [],
   "source": [
    "\"\"\"Video showing conceptual visualization of the above experiment on the Bloch sphere.\"\"\"\n",
    "from IPython.display import YouTubeVideo\n",
    "YouTubeVideo(\"9Ekep8zgZHc\", width=640, height=360)"
   ]
  },
  {
   "cell_type": "markdown",
   "metadata": {},
   "source": [
    "### Pulse sequence"
   ]
  },
  {
   "cell_type": "markdown",
   "metadata": {},
   "source": [
    "The Ramsey pulse sequence for determining $T_2$ is a translation of the above experimental description into pulses:\n",
    "\n",
    "1. Apply a $\\pi/2$ pulse about the $x$-axis to create a coherent state.\n",
    "1. Wait for a time $t$.\n",
    "1. Apply a $\\pi/2$ pulse about the $x$-axis.\n",
    "\n",
    "This pulse schedule was made with Qiskit `Pulse` and is shown below. Note the very small $\\pi/2$ pulse at the far-left in the drive channel. The measurement channel is truncated for aesthetics."
   ]
  },
  {
   "cell_type": "markdown",
   "metadata": {},
   "source": [
    "<img src=\"https://github.com/rmlarose/qcbq/blob/master/img/t2-ramsey-pulse-schedule.png?raw=true\" style=\"width:600px;height:400px;\">"
   ]
  },
  {
   "cell_type": "markdown",
   "metadata": {},
   "source": [
    "### Raw data"
   ]
  },
  {
   "cell_type": "markdown",
   "metadata": {},
   "source": [
    "Again, although we cannot use `Pulse` to perform this experiment, we have the next best thing: raw data. Execute the cell below to read in this data."
   ]
  },
  {
   "cell_type": "code",
   "execution_count": null,
   "metadata": {},
   "outputs": [],
   "source": [
    "\"\"\"Load in the raw data.\"\"\"\n",
    "t2data = np.loadtxt(\"https://raw.githubusercontent.com/rmlarose/qcbq/master/data/t2_data.txt\")\n",
    "times = t2data[:, 1]  # microseconds\n",
    "measurements = t2data[:, 0]  # probability of ground state"
   ]
  },
  {
   "cell_type": "markdown",
   "metadata": {},
   "source": [
    "The format of this data is as follows. The `times` array contains the \"wait times\" in microseconds, and the `measurements` array contains the frequency the ground state was measured."
   ]
  },
  {
   "cell_type": "markdown",
   "metadata": {},
   "source": [
    "<font size=8 color=\"#009600\">&#9998;</font> **Do this:** In the following cell, make a plot of the raw data obtained from the experiment. Your plot should have time on the horizontal axis and probability (frequency) of measuring the ground state on the vertical axis. Axis labels and a title never hurt anyone!"
   ]
  },
  {
   "cell_type": "code",
   "execution_count": null,
   "metadata": {
    "scrolled": false
   },
   "outputs": [],
   "source": [
    "\"\"\"Plot the raw data.\"\"\"\n",
    "### Your code here!\n",
    "plt.figure(figsize=(12, 5))\n",
    "plt.scatter(times, measurements);\n",
    "plt.xlabel(\"Time [microseconds]\");\n",
    "plt.ylabel(\"Probability of ground state\");\n",
    "plt.title(\"Ramsey measurement data\")\n",
    "plt.grid();\n",
    "plt.show()"
   ]
  },
  {
   "cell_type": "markdown",
   "metadata": {},
   "source": [
    "### Fitting"
   ]
  },
  {
   "cell_type": "markdown",
   "metadata": {},
   "source": [
    "This data looks noisy, but there is a pattern that we can fit!"
   ]
  },
  {
   "cell_type": "markdown",
   "metadata": {},
   "source": [
    "<font size=8 color=\"#009600\">&#9998;</font> **Do this:** In the following cell, define a function which takes as arguments $t$, $\\omega$, and $T_2$. (Order matters!) Return the following functional form:\n",
    "\n",
    "\\begin{equation}\n",
    "    \\frac{1}{2} \\left(1 +  \\cos \\omega t \\right) e^{- t / T_2} .\n",
    "\\end{equation}\n",
    "\n",
    "To reiterate, the oscillatory behavior $\\cos \\omega t$ is due to the qubit rotating about the $z$-axis while in the $xy$-plane. The exponential decay $e^{-t / T_2}$ is due to decoherence. "
   ]
  },
  {
   "cell_type": "code",
   "execution_count": null,
   "metadata": {},
   "outputs": [],
   "source": [
    "\"\"\"Define the fit function.\"\"\"\n",
    "def ramsey_fit(time: float, domega: float, T2: float) -> float:\n",
    "    return 0.5 + 0.5 * np.cos(domega * times) * np.exp(- times / T2) ### Your code here!"
   ]
  },
  {
   "cell_type": "markdown",
   "metadata": {},
   "source": [
    "<font size=8 color=\"#009600\">&#9998;</font> **Do this:** In the following cell, use `scipy.optimize.curve_fit` or your favorite data-fitting tool to fit the fit function to the raw data."
   ]
  },
  {
   "cell_type": "code",
   "execution_count": null,
   "metadata": {},
   "outputs": [],
   "source": [
    "\"\"\"Do the fitting.\"\"\"\n",
    "### Your code here!\n",
    "optimal_params, covariance = scp.optimize.curve_fit(ramsey_fit, times, measurements)"
   ]
  },
  {
   "cell_type": "markdown",
   "metadata": {},
   "source": [
    "**Question:** What is your computed $T_2$ time? (Remember units!)"
   ]
  },
  {
   "cell_type": "markdown",
   "metadata": {},
   "source": [
    "<font size=8 color=\"#009600\">&#9998;</font> **Answer:** Answer the above question here!"
   ]
  },
  {
   "cell_type": "markdown",
   "metadata": {},
   "source": [
    "**Question:** Assuming the drive frequency is [some value], what is the qubit frequency?"
   ]
  },
  {
   "cell_type": "markdown",
   "metadata": {},
   "source": [
    "<font size=8 color=\"#009600\">&#9998;</font> **Answer:** Answer the above question here!"
   ]
  },
  {
   "cell_type": "markdown",
   "metadata": {},
   "source": [
    "<font size=8 color=\"#009600\">&#9998;</font> **Do this:** In the following cell, plot the computed best-fit curve and the raw data in the same plot."
   ]
  },
  {
   "cell_type": "code",
   "execution_count": null,
   "metadata": {},
   "outputs": [],
   "source": [
    "\"\"\"Plot the fit and data.\"\"\"\n",
    "### Your code here!\n",
    "# Compute the fit\n",
    "fitvals = ramsey_fit(times, *optimal_params)\n",
    "\n",
    "# Do the plotting\n",
    "plt.figure(figsize=(12, 5))\n",
    "plt.plot(times, fitvals, \"-\", linewidth=4, label=\"Fit\", color=\"red\");\n",
    "plt.scatter(times, measurements, label=\"Data\");\n",
    "plt.xlabel(\"Time [microseconds]\");\n",
    "plt.ylabel(\"Probability of ground state\");\n",
    "plt.title(\"Ramsey measurement data\")\n",
    "plt.legend();\n",
    "plt.grid();\n",
    "plt.text(30, -0.1, rf\"T2 = {round(optimal_params[1], 3)} $\\mu$s\")\n",
    "plt.show()"
   ]
  },
  {
   "cell_type": "markdown",
   "metadata": {},
   "source": [
    "## Hahn echo"
   ]
  },
  {
   "cell_type": "markdown",
   "metadata": {},
   "source": [
    "Unlike energy decay, where the qubit excitation escapes into the environment, the pure dephasing of a qubit is, at least in principle, revisible. To see why this is, let's think about what dephasing actually is.\n",
    "\n",
    "A qubit consists of two energy levels spaced by $\\hbar\\omega_{01}$. We often think of this energy as a fixed parameter of the system, but in reality system noise may cause $\\omega_{01}$ fluctuate around, i.e. $\\omega_{01} = \\langle\\omega_{01}\\rangle + \\delta\\omega_{01}(t)$. A superposition of the eigenvectors of a Hamiltonian will evolve in time as\n",
    "\n",
    "$$|\\psi(t)\\rangle = \\alpha |{0}\\rangle + e^{i\\phi_0}e^{-\\int_0^t\\omega_{01}(t)dt}\\beta |{1}\\rangle = \\alpha |{0}\\rangle +   e^{i(\\phi_0-\\langle\\omega_{01}\\rangle t)}e^{-\\int_0^t\\delta\\omega_{01}dt}\\beta|{1}\\rangle $$ \n",
    "\n",
    "Here, $\\phi_0$ is the phase we encoded in our superposition state. The $\\langle\\omega_{01}\\rangle t$ term represents deterministic (Shrödinger Equation) evolution of the Hamiltonian: this evolution is not a problem, as we can always correct for this as long as we know $\\langle\\omega_{01}\\rangle$ and $t$. The second exponential captures the phase evolution caused by stochastic fluctaions in the qubit frequency. It can be shown that, as $t$ increases, this term causes the overal phase to undergo a random walk away from it's deterministic value. Since we dont know what $\\delta\\omega_{01}$ is, we can't correct for it: this is what causes us to lose phase information in our qubit.\n",
    "\n",
    "However, if we were to somehow reverse time halfway through the experiment, we'd find\n",
    "\n",
    "\\begin{align}\n",
    "|{\\psi(t)}\\rangle &= \\alpha|{0}\\rangle + \\exp{(i\\phi_0)} \n",
    "\\exp{ \\left[ -i\\left( \\int_0^{t/2}\\omega_{01}(t)dt + \\int_{t/2}^0\\omega_{01}(t)dt \\right) \\right] }\\beta |{1}\\rangle \\\\\n",
    "&= \\alpha|{0}\\rangle + \\exp{ (i\\phi_0)} \n",
    "\\exp{\\left[ -i \\left(\\int_0^{t/2}\\omega_{01}(t)dt - \\int_{0}^{t/2}\\omega_{01}(t)dt \\right) \\right]}\\beta |{1}\\rangle \\\\\n",
    "&= \\alpha |{0}\\rangle +   e^{i\\phi_0}\\beta|{1}\\rangle \\\\\n",
    "&= {\\psi(t=0)}\n",
    "\\end{align}\n",
    "\n",
    "Thus, if we had a way to \"reverse time\" at $t/2$, we could, in principle, undo the phase accumulation that causes dephasing. Of course we can't acutually reverse time... what we *can* do is apply a 'refocusing' pulse: if, at $t/2$ we rotate the qubit by $\\pi$ about the $Y$, we will, in essence, mirror the qubit state on the Bloch sphere. Since the state vector is now mirrored on the Bloch sphere, the evolution forward in time will now *undo any evolution that happened during the first half of the experiment*. \n",
    "\n",
    "Take a look at the animation below."
   ]
  },
  {
   "cell_type": "code",
   "execution_count": null,
   "metadata": {},
   "outputs": [],
   "source": [
    "\"\"\"Video showing conceptual visualization of the above experiment on the Bloch sphere.\"\"\"\n",
    "from IPython.display import YouTubeVideo\n",
    "YouTubeVideo(\"wkuqcCVhl04\", width=640, height=360)"
   ]
  },
  {
   "cell_type": "markdown",
   "metadata": {},
   "source": [
    "We start the expriment with a $\\pi/2$ pulse about the $x$-axis, initializing it along the $-y$-axis. Then we let the state vector rotate around for some time $t/2$, after which it makes some angle $\\phi$ with the $-y$-axis. When we apply our $Y_{\\pi}$ pulse, the angle the statevector makes with the $-y$-axis is now $-\\phi$ and time evolution for $t/2$ will *undo this evolution!*"
   ]
  },
  {
   "cell_type": "markdown",
   "metadata": {},
   "source": [
    "### Pulse sequence\n",
    "\n",
    "The pulse sequence for the spin echo experiment described above is shown below. As above, this was made using Qiskit `Pulse`."
   ]
  },
  {
   "cell_type": "markdown",
   "metadata": {},
   "source": [
    "<img src=\"https://github.com/rmlarose/qcbq/blob/master/img/t2-spin-echo-pulse-schedule.png?raw=true\" style=\"width:600px;height:400px;\">"
   ]
  },
  {
   "cell_type": "markdown",
   "metadata": {},
   "source": [
    "### Raw data"
   ]
  },
  {
   "cell_type": "markdown",
   "metadata": {},
   "source": [
    "Execute the cell below to load in raw data. The format of this data is as follows. The `times` array contains the wait time in microseconds, and the `measurements` array contains the probability of measuring the ground state after waiting a given time."
   ]
  },
  {
   "cell_type": "code",
   "execution_count": null,
   "metadata": {},
   "outputs": [],
   "source": [
    "\"\"\"Load in the raw data.\"\"\"\n",
    "t2echo_data = np.loadtxt(\"https://raw.githubusercontent.com/rmlarose/qcbq/master/data/t2e_data.txt\")\n",
    "times = t2echo_data[:, 1]  # microseconds\n",
    "measurements = t2echo_data[:, 0]  # probability of ground state"
   ]
  },
  {
   "cell_type": "markdown",
   "metadata": {},
   "source": [
    "Now that we have data loaded in, we can plot it."
   ]
  },
  {
   "cell_type": "markdown",
   "metadata": {},
   "source": [
    "<font size=8 color=\"#009600\">&#9998;</font> **Do this:** In the following cell, make a plot of the raw data obtained from the experiment. Your plot should have time on the horizontal axis and probability (frequency) of measuring the ground state on the vertical axis. Axis labels and a title never hurt anyone!"
   ]
  },
  {
   "cell_type": "code",
   "execution_count": null,
   "metadata": {},
   "outputs": [],
   "source": [
    "\"\"\"Plot the raw data.\"\"\"\n",
    "### Your code here!\n",
    "plt.figure(figsize=(12, 5))\n",
    "plt.plot(times, measurements, \"--o\", linewidth=3);\n",
    "plt.xlabel(\"Time [microseconds]\");\n",
    "plt.ylabel(\"Frequency of ground state\");\n",
    "plt.title(\"Hahn-echo measurement data\");\n",
    "plt.grid();\n",
    "plt.show()"
   ]
  },
  {
   "cell_type": "markdown",
   "metadata": {},
   "source": [
    "### Fitting"
   ]
  },
  {
   "cell_type": "markdown",
   "metadata": {},
   "source": [
    "After visualizing the data, we are ready to estimate the coherence ($T_2$) time of this qubit."
   ]
  },
  {
   "cell_type": "markdown",
   "metadata": {},
   "source": [
    "<font size=8 color=\"#009600\">&#9998;</font> **Do this:** In the following cell, define a function which takes as arguments $t$ and $T_2$. (Order matters!) Return the following functional form:\n",
    "\n",
    "\\begin{equation}\n",
    "    \\frac{1}{2} \\left(1 +  e^{- t / T_2} \\right) .\n",
    "\\end{equation}"
   ]
  },
  {
   "cell_type": "code",
   "execution_count": null,
   "metadata": {},
   "outputs": [],
   "source": [
    "\"\"\"Define a fit function.\"\"\"\n",
    "def hahn_fit(time: float, T2: float) -> float:\n",
    "    return 0.5 * (1 + np.exp(-time / T2))  ### Your code here!"
   ]
  },
  {
   "cell_type": "markdown",
   "metadata": {},
   "source": [
    "<font size=8 color=\"#009600\">&#9998;</font> **Do this:** In the following cell, use `scipy.optimize.curve_fit` or your favorite data-fitting tool to fit the fit function to the raw data."
   ]
  },
  {
   "cell_type": "code",
   "execution_count": null,
   "metadata": {
    "scrolled": false
   },
   "outputs": [],
   "source": [
    "\"\"\"Do the fitting.\"\"\"\n",
    "### Your code here!\n",
    "optimal_params, covariance = scp.optimize.curve_fit(hahn_fit, times, measurements)\n",
    "\n",
    "print(\"T2 =\", round(optimal_params[0], 2), \"microseconds.\")"
   ]
  },
  {
   "cell_type": "markdown",
   "metadata": {},
   "source": [
    "**Question:** What is your computed $T_2$ time? (Remember units!) How does this compare to the $T_2$ computed from doing the Ramsey experiment?"
   ]
  },
  {
   "cell_type": "markdown",
   "metadata": {},
   "source": [
    "<font size=8 color=\"#009600\">&#9998;</font> **Answer:** Answer the above question here!"
   ]
  },
  {
   "cell_type": "markdown",
   "metadata": {},
   "source": [
    "<font size=8 color=\"#009600\">&#9998;</font> **Do this:** In the following cell, plot the computed best-fit exponential curve and the raw data in the same plot."
   ]
  },
  {
   "cell_type": "code",
   "execution_count": null,
   "metadata": {
    "scrolled": true
   },
   "outputs": [],
   "source": [
    "\"\"\"Plot the fit function and data.\"\"\"\n",
    "### Your code here!\n",
    "# Compute the fit\n",
    "fitvals = hahn_fit(times, *optimal_params)\n",
    "\n",
    "# Plot the fit and data\n",
    "plt.figure(figsize=(12, 5))\n",
    "plt.plot(times, measurements, \"--o\", linewidth=2, label=\"Data\");\n",
    "plt.plot(times, fitvals, \"-\", linewidth=4, label=\"Fit\");\n",
    "plt.xlabel(\"Time [microseconds]\");\n",
    "plt.ylabel(\"Frequency of ground state\");\n",
    "plt.title(\"Hahn-echo measurement data\");\n",
    "plt.legend();\n",
    "plt.grid();\n",
    "plt.text(25, 0.9, rf\"T2 = {round(optimal_params[0], 3)} $\\mu$s\")\n",
    "plt.show()"
   ]
  },
  {
   "cell_type": "markdown",
   "metadata": {},
   "source": [
    "#### Congrats! You just measured T1 and T2 times of superconducting qubits."
   ]
  },
  {
   "cell_type": "markdown",
   "metadata": {},
   "source": [
    "# Summary"
   ]
  },
  {
   "cell_type": "markdown",
   "metadata": {},
   "source": [
    "This notebook contained a fair amount of technical detail. It's ok if you didn't grasp everything in only an hour, but hopefully you were able to do the data fitting and see how qubits are benchmarked in real quantum computers. If you didn't make it through this, don't worry! You can always come back to work on this later.\n",
    "\n",
    "In summary, (superconducting) qubits have a ground $|0\\rangle$ and excited $|1\\rangle$ state. The T1 time is a measure of how long it takes the excited state to decay into the ground state. The T2 time is a measure of how long qubits can \"stay coherent.\" Superconducting qubits are described aptly by the qubit and drive Hamiltonians. We implement single qubit gates on superconducting qubits by sending microwave pulses through control lines at them. Qiskit `Pulse` provides low-level functionality to control these pulses."
   ]
  },
  {
   "cell_type": "markdown",
   "metadata": {},
   "source": [
    "## Bloch-Redfield model"
   ]
  },
  {
   "cell_type": "markdown",
   "metadata": {},
   "source": [
    "A succinct characterization of T1 and T2 times is given by the following **Bloch-Redfield** density matrix."
   ]
  },
  {
   "cell_type": "markdown",
   "metadata": {},
   "source": [
    "\\begin{equation}\n",
    "    \\rho_{BR} := \\left[ \\begin{matrix}\n",
    "        1 + (|\\alpha|^2 - 1) e^{-t / T_1} & \\alpha \\beta^* e^{-t / T_2} \\\\\n",
    "        \\alpha^* \\beta e^{-t / T_2} & |\\beta|^2 e^{- t / T_1} \n",
    "    \\end{matrix} \\right]\n",
    "\\end{equation}"
   ]
  },
  {
   "cell_type": "markdown",
   "metadata": {},
   "source": [
    "From this, we can summarize how individual matrix elements are affected by energy dissipation and decoherence. Energy dissipation causes the probability of the $|0\\rangle$ state to asymptotically approach one, and causes the probability of the $|1\\rangle$ state to asymptotically approach zero. Decoherence causes the off-diagonal elements to asymptotically approach zero.\n",
    "\n",
    "The following function defines this Bloch-Redfield density matrix."
   ]
  },
  {
   "cell_type": "code",
   "execution_count": null,
   "metadata": {},
   "outputs": [],
   "source": [
    "\"\"\"Function for the Bloch-Redfield density matrix.\"\"\"\n",
    "def rho(t: float, \n",
    "        alpha0: complex = np.sqrt(1 / 2), \n",
    "        beta0: complex = np.sqrt(1 / 2),\n",
    "        T1: float = 40,\n",
    "        T2: float = 70) -> np.ndarray:\n",
    "    return np.array([\n",
    "        [1 + (abs(alpha0)**2 - 1) * np.exp(- t / T1), alpha0 * np.conj(beta0) * np.exp(-t / T2)],\n",
    "        [np.conj(alpha0) * beta0 * np.exp(-t / T2), abs(beta0)**2 * np.exp(-t / T1)]\n",
    "    ])"
   ]
  },
  {
   "cell_type": "markdown",
   "metadata": {},
   "source": [
    "The interactive visualization below let's you see how this density matrix evolves over time. You can also adjust the T1 and T2 times of the qubit to see how this affects its evolution."
   ]
  },
  {
   "cell_type": "code",
   "execution_count": null,
   "metadata": {
    "scrolled": true
   },
   "outputs": [],
   "source": [
    "\"\"\"Visualization of the Bloch-Redfield density matrix.\"\"\"\n",
    "import ipywidgets\n",
    "\n",
    "@ipywidgets.interact\n",
    "def vis(time=(0, 500, 1), T1=(20, 200, 1), T2=(20, 200, 1)):\n",
    "    plt.title(r\"$\\rho_{BR}$\")\n",
    "    plt.imshow(np.real(rho(time, T1=T1, T2=T2)), cmap=\"Greens\", vmin=0, vmax=1)\n",
    "    plt.text(-0.2, 0.0, round(rho(time, T1=T1, T2=T2)[0, 0], 4))\n",
    "    plt.text(-0.2, 1.0, round(rho(time, T1=T1, T2=T2)[1, 0], 4))\n",
    "    plt.text(0.8, 0.0, round(rho(time, T1=T1, T2=T2)[0, 1], 4))\n",
    "    plt.text(0.8, 1.0, round(rho(time, T1=T1, T2=T2)[1, 1], 4))\n",
    "    plt.colorbar()\n",
    "    plt.axis(\"off\")\n",
    "    plt.show()"
   ]
  },
  {
   "cell_type": "markdown",
   "metadata": {},
   "source": [
    "Additionally, the plot below shows the evolution of each matrix element over time."
   ]
  },
  {
   "cell_type": "code",
   "execution_count": null,
   "metadata": {},
   "outputs": [],
   "source": [
    "\"\"\"Plot the matrix elements of rho over time.\"\"\"\n",
    "# Initial state\n",
    "alpha = np.sqrt(0.3)\n",
    "beta = np.sqrt(0.7)\n",
    "\n",
    "# T1 and T2 times\n",
    "T1 = 50\n",
    "T2 = 70\n",
    "\n",
    "# Time\n",
    "time = np.linspace(0, 250, 100)\n",
    "\n",
    "# Matrix elements\n",
    "rho00 = 1 + (abs(alpha)**2 - 1) * np.exp(-time / T1)\n",
    "rho01 = alpha * np.conj(beta) * np.exp(-time / T2)\n",
    "rho10 = np.conj(rho01)\n",
    "rho11 = 1 - rho00\n",
    "\n",
    "# Plotting\n",
    "plt.figure(figsize=(16, 5));\n",
    "plt.plot(time, rho00, \"--\", label=r\"$\\rho_{00}$\", linewidth=4);\n",
    "plt.plot(time, np.real(rho01), \"--\", label=r\"$\\Re[\\rho_{01}]$\", linewidth=4);\n",
    "plt.plot(time, np.real(rho10), \"--\", label=r\"$\\Re[\\rho_{10}]$\", linewidth=4);\n",
    "plt.plot(time, rho11, \"--\", label=r\"$\\rho_{11}$\", linewidth=4);\n",
    "plt.grid();\n",
    "plt.legend();\n",
    "plt.xlabel(\"Time [microseconds]\");"
   ]
  },
  {
   "cell_type": "markdown",
   "metadata": {},
   "source": [
    "# Further reading and resources"
   ]
  },
  {
   "cell_type": "markdown",
   "metadata": {},
   "source": [
    "* [Quantum engineer's guide to superconducting qubits](https://arxiv.org/abs/1904.06560).\n",
    "* [Decoherence textbook](https://www.springer.com/gp/book/9783540357735).\n",
    "* [Qiskit Pulse documentation](https://qiskit.org/documentation/apidoc/pulse/pulse.html).\n",
    "* [Qiskit textbook notebook on calibrating qubits](https://community.qiskit.org/textbook/ch-quantum-hardware/calibrating-qubits-openpulse.html)."
   ]
  },
  {
   "cell_type": "markdown",
   "metadata": {},
   "source": [
    "# Technical notes"
   ]
  },
  {
   "cell_type": "markdown",
   "metadata": {},
   "source": [
    "1. The Hamiltonian transforms as $\\tilde{H} = RHR^{\\dagger} + i\\hbar \\frac{\\partial R}{\\partial t}R^{\\dagger}$, where, for the case of transforming into the frame rotating in the drive, $R = e^{-\\frac{i\\omega_dt}{2}\\sigma_z}$. It is also perfectly valid to go into the frame rotating with the qubit (as is done in \"Quantum engineer's guide to superconducting qubits\"), however this frame becomes problematic when discussing dephasing, which may be viewed as the frequency of the qubit stochastically changing. Since the drive frequency is typically well controlled relative to the qubit frequency, we generally work in the frame rotating with the drive.\n",
    "\n",
    "1. Superposition and coherence are basis-dependant. That is, the existence of coherence depends on the particular basis one is using. For example, the state $|0\\rangle + |1\\rangle$ is a coherent superposition of the computational basis states $|0\\rangle$ and $|1\\rangle$, but it is one of the $X$-basis states $|+\\rangle$. So, in the computational basis, this density matrix does have off-diagonal elements, but in the $X$-basis this density matrix would be diagonal. For the discussion in the main notebook, we always use coherence to mean coherence in the computational basis. Decoherence causes a decay to some \"preferred basis\" (which happens to be the computational basis in superconducting qubits). "
   ]
  }
 ],
 "metadata": {
  "kernelspec": {
   "display_name": "env_qcbq_test",
   "language": "python",
   "name": "env_qcbq_test"
  },
  "language_info": {
   "codemirror_mode": {
    "name": "ipython",
    "version": 3
   },
   "file_extension": ".py",
   "mimetype": "text/x-python",
   "name": "python",
   "nbconvert_exporter": "python",
   "pygments_lexer": "ipython3",
   "version": "3.6.8"
  }
 },
 "nbformat": 4,
 "nbformat_minor": 2
}
