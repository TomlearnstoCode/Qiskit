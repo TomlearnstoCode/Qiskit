{
 "cells": [
  {
   "cell_type": "markdown",
   "metadata": {},
   "source": [
    "# Using the Quantum Approximate Optimization Algorithm (QAOA)"
   ]
  },
  {
   "cell_type": "markdown",
   "metadata": {},
   "source": [
    "The [QAOA](https://arxiv.org/abs/1411.4028) is a near-term quantum algorithm for approximately solving optimization problems. This notebook will walk you through how to use Qiskit Aqua to solve MaxCut and other combinatorial optimization problems with the QAOA."
   ]
  },
  {
   "cell_type": "markdown",
   "metadata": {},
   "source": [
    "## Learning goals"
   ]
  },
  {
   "cell_type": "markdown",
   "metadata": {},
   "source": [
    "(1) Understand the goal of MaxCut.\n",
    "\n",
    "(2) Know how to map an optimization problem (e.g., MaxCut) to a QAOA problem using Qiskit.\n",
    "\n",
    "(3) Be able to find the optimal parameters for the circuit using optimizers in Qiskit.\n",
    "\n",
    "(4) Understand how to sample from the QAOA circuit with optimal parameters to obtain approximate solutions."
   ]
  },
  {
   "cell_type": "code",
   "execution_count": null,
   "metadata": {},
   "outputs": [],
   "source": [
    "\"\"\"Imports for the notebook.\"\"\"\n",
    "import matplotlib.pyplot as plt\n",
    "import networkx as nx\n",
    "import numpy as np\n",
    "\n",
    "import qiskit\n",
    "print(qiskit.__qiskit_version__)"
   ]
  },
  {
   "cell_type": "code",
   "execution_count": null,
   "metadata": {},
   "outputs": [],
   "source": [
    "\"\"\"Optional: Turn off warnings for the notebook.\"\"\"\n",
    "from warnings import filterwarnings\n",
    "filterwarnings(\"ignore\")"
   ]
  },
  {
   "cell_type": "code",
   "execution_count": null,
   "metadata": {},
   "outputs": [],
   "source": [
    "\"\"\"Specific imports for QAOA with MaxCut.\"\"\"\n",
    "# Import the QAOA object\n",
    "from qiskit.aqua.algorithms.adaptive import QAOA\n",
    "\n",
    "# Import tools for the MaxCut problem\n",
    "from qiskit.aqua.translators.ising.max_cut import random_graph, get_max_cut_qubitops\n",
    "from qiskit.aqua.operators.weighted_pauli_operator import Pauli, WeightedPauliOperator\n",
    "\n",
    "# Import optimizers in Qiskit for finding the best parameters in the QAOA circuit\n",
    "from qiskit.aqua.components.optimizers import ADAM, AQGD, COBYLA, POWELL"
   ]
  },
  {
   "cell_type": "code",
   "execution_count": null,
   "metadata": {},
   "outputs": [],
   "source": [
    "\"\"\"Helper functions and other useful code.\"\"\"\n",
    "def draw_weighted(graph: nx.Graph,\n",
    "                  pos_color: str = \"blue\",\n",
    "                  neg_color: str = \"red\",\n",
    "                  scale: float = 2.0) -> None:\n",
    "    \"\"\"Shows a visual of a graph with edges scaled by weight and colored by sign.\n",
    "    \n",
    "    Args:\n",
    "        graph: The weighted graph to visualize.\n",
    "        scale: Floating point value to scale edge weights by\n",
    "               in the visualization. Purely aesthetic.\n",
    "    \n",
    "    \"\"\"\n",
    "    pos = nx.spring_layout(graph)\n",
    "    nx.draw_networkx_nodes(graph, pos, node_size=700)\n",
    "    \n",
    "    col = lambda sgn: pos_color if sgn > 0 else neg_color\n",
    "    \n",
    "    for edge in graph.edges:\n",
    "        weight = graph.get_edge_data(*edge)[\"weight\"]\n",
    "        sgn = np.sign(weight)\n",
    "        size = abs(weight)\n",
    "        nx.draw_networkx_edges(graph, \n",
    "                               pos, \n",
    "                               edgelist=[edge], \n",
    "                               width=scale * size,\n",
    "                               edge_color=col(sgn),\n",
    "                               alpha=0.5)\n",
    "    nx.draw_networkx_labels(graph, pos, font_size=20)\n",
    "    plt.axis(\"off\")\n",
    "    plt.show()"
   ]
  },
  {
   "cell_type": "markdown",
   "metadata": {},
   "source": [
    "# Using the QAOA from Qiskit Aqua"
   ]
  },
  {
   "cell_type": "markdown",
   "metadata": {},
   "source": [
    "## Step 1: Define the problem"
   ]
  },
  {
   "cell_type": "code",
   "execution_count": null,
   "metadata": {
    "scrolled": true
   },
   "outputs": [],
   "source": [
    "\"\"\"Define the graph for MaxCut via an adjacency matrix.\"\"\"\n",
    "matrix = random_graph(6, edge_prob=0.5)\n",
    "print(\"The adjacency matrix is:\")\n",
    "print(matrix)"
   ]
  },
  {
   "cell_type": "code",
   "execution_count": null,
   "metadata": {},
   "outputs": [],
   "source": [
    "\"\"\"Convert the adjacency matrix to a (weighted) graph and visualize it.\"\"\"\n",
    "graph = nx.from_numpy_array(matrix, parallel_edges=False)\n",
    "draw_weighted(graph, pos_color=\"red\", neg_color=\"blue\")"
   ]
  },
  {
   "cell_type": "markdown",
   "metadata": {},
   "source": [
    "### Try a cut!"
   ]
  },
  {
   "cell_type": "code",
   "execution_count": null,
   "metadata": {},
   "outputs": [],
   "source": []
  },
  {
   "cell_type": "markdown",
   "metadata": {},
   "source": [
    "## Step 2: Translate the problem to quantum"
   ]
  },
  {
   "cell_type": "markdown",
   "metadata": {},
   "source": [
    "In this step, we input an adjacency matrix describing a weighted graph and output a string of Pauli operators and constant shift which defines the MaxCut cost function."
   ]
  },
  {
   "cell_type": "code",
   "execution_count": null,
   "metadata": {},
   "outputs": [],
   "source": [
    "\"\"\"Pauli operators from matrix.\"\"\"\n",
    "op, shift = get_max_cut_qubitops(matrix)"
   ]
  },
  {
   "cell_type": "code",
   "execution_count": null,
   "metadata": {
    "scrolled": true
   },
   "outputs": [],
   "source": [
    "\"\"\"Inspect the Pauli operators.\"\"\"\n",
    "print(f\"There are {len(op.paulis)} weighted Pauli operators.\")\n",
    "for pauli in op.paulis:\n",
    "    print(pauli[0], \"*\", pauli[1].to_label())"
   ]
  },
  {
   "cell_type": "markdown",
   "metadata": {},
   "source": [
    "## Step 3: Define the QAOA circuit(s)"
   ]
  },
  {
   "cell_type": "code",
   "execution_count": null,
   "metadata": {},
   "outputs": [],
   "source": [
    "\"\"\"Make the QAOA instance.\"\"\"\n",
    "qaoa = QAOA(op, COBYLA(), p=1)\n",
    "print(qaoa.print_settings())"
   ]
  },
  {
   "cell_type": "code",
   "execution_count": null,
   "metadata": {
    "scrolled": true
   },
   "outputs": [],
   "source": [
    "\"\"\"Inspect the circuits.\"\"\"\n",
    "backend = qiskit.BasicAer.get_backend(\"qasm_simulator\")\n",
    "circs = qaoa.construct_circuit([1, 2], backend=backend)\n",
    "\n",
    "print(f\"There are {len(circs)} circuits.\")\n",
    "print(circs[0])"
   ]
  },
  {
   "cell_type": "markdown",
   "metadata": {},
   "source": [
    "## Step 4: Sweep the leg (parameters)"
   ]
  },
  {
   "cell_type": "code",
   "execution_count": null,
   "metadata": {},
   "outputs": [],
   "source": [
    "N = 15\n",
    "gammas = np.linspace(-np.pi, np.pi, N)\n",
    "betas = np.linspace(-np.pi, np.pi, N)"
   ]
  },
  {
   "cell_type": "code",
   "execution_count": null,
   "metadata": {},
   "outputs": [],
   "source": [
    "quantum_instance = qiskit.aqua.QuantumInstance(backend=qiskit.BasicAer.get_backend(\"qasm_simulator\"))\n",
    "qaoa._quantum_instance = quantum_instance\n",
    "qaoa._use_simulator_operator_mode = True"
   ]
  },
  {
   "cell_type": "code",
   "execution_count": null,
   "metadata": {},
   "outputs": [],
   "source": [
    "import progressbar\n",
    "bar = progressbar.ProgressBar(maxval=N**2)\n",
    "\n",
    "costs = np.zeros((len(gammas), len(betas)), dtype=float)\n",
    "bar.start()\n",
    "for (ii, gamma) in enumerate(gammas):\n",
    "    for (jj, beta) in enumerate(betas):\n",
    "        costs[ii][jj] = qaoa._energy_evaluation(np.array([gamma, beta]))\n",
    "        bar.update(N * ii + jj)\n",
    "bar.finish()"
   ]
  },
  {
   "cell_type": "code",
   "execution_count": null,
   "metadata": {},
   "outputs": [],
   "source": [
    "\"\"\"Visualize the landscape.\"\"\"\n",
    "plt.figure(figsize=(7, 7));\n",
    "plt.imshow(costs, origin=(0, 0));\n",
    "plt.xlabel(\"Gammas\")\n",
    "plt.ylabel(\"Betas\")\n",
    "plt.colorbar();"
   ]
  },
  {
   "cell_type": "markdown",
   "metadata": {},
   "source": [
    "## Step 5: Run the optimizer"
   ]
  },
  {
   "cell_type": "markdown",
   "metadata": {},
   "source": [
    "Here, we run the optimizer to get the best angles -- i.e., the angles which produce the lowest cost value."
   ]
  },
  {
   "cell_type": "code",
   "execution_count": null,
   "metadata": {},
   "outputs": [],
   "source": [
    "\"\"\"Get a quantum instance and run the algorithm.\"\"\"\n",
    "qaoa._optimizer = POWELL()\n",
    "result = qaoa.run(quantum_instance)"
   ]
  },
  {
   "cell_type": "markdown",
   "metadata": {},
   "source": [
    "## Step 6: Parse the output"
   ]
  },
  {
   "cell_type": "code",
   "execution_count": null,
   "metadata": {},
   "outputs": [],
   "source": [
    "print(result)"
   ]
  },
  {
   "cell_type": "code",
   "execution_count": null,
   "metadata": {},
   "outputs": [],
   "source": [
    "qaoa.get_optimal_cost()"
   ]
  },
  {
   "cell_type": "code",
   "execution_count": null,
   "metadata": {
    "scrolled": true
   },
   "outputs": [],
   "source": [
    "print(qaoa.print_settings())"
   ]
  },
  {
   "cell_type": "markdown",
   "metadata": {},
   "source": [
    "## Step 7: Sample from the circuit with optimal parameters"
   ]
  },
  {
   "cell_type": "code",
   "execution_count": null,
   "metadata": {},
   "outputs": [],
   "source": [
    "\"\"\"Get the circuit with optimal parameters.\"\"\"\n",
    "circ = qaoa.get_optimal_circuit()\n",
    "qreg = circ.qregs[0]\n",
    "creg = qiskit.ClassicalRegister(6)\n",
    "circ.add_register(creg)\n",
    "circ.measure(qreg, creg)\n",
    "print(circ)"
   ]
  },
  {
   "cell_type": "code",
   "execution_count": null,
   "metadata": {},
   "outputs": [],
   "source": [
    "\"\"\"Execute the circuit to sample from it.\"\"\"\n",
    "job = qiskit.execute(circ, backend=backend, shots=1000)\n",
    "res = job.result()\n",
    "counts = res.get_counts()\n",
    "\n",
    "import operator\n",
    "sorted_counts = sorted(counts.items(), key=operator.itemgetter(1))\n",
    "print(sorted_counts)"
   ]
  },
  {
   "cell_type": "code",
   "execution_count": null,
   "metadata": {
    "scrolled": true
   },
   "outputs": [],
   "source": [
    "qiskit.visualization.plot_histogram(counts, figsize=(17, 8))"
   ]
  },
  {
   "cell_type": "markdown",
   "metadata": {},
   "source": [
    "#### Do your top sampled bit strings provide a good cut for the graph?"
   ]
  },
  {
   "cell_type": "markdown",
   "metadata": {},
   "source": [
    "# Questions and exercises"
   ]
  },
  {
   "cell_type": "markdown",
   "metadata": {},
   "source": [
    "## How do different optimizers compare?"
   ]
  },
  {
   "cell_type": "markdown",
   "metadata": {},
   "source": [
    "We used the `COBYLA` optimizer above, but there are others in `aqua.components.optimizers`. Pick a few of these and compare their performance. (How will you compare performance?)"
   ]
  },
  {
   "cell_type": "markdown",
   "metadata": {},
   "source": [
    "## Is this the optimal cost?"
   ]
  },
  {
   "cell_type": "markdown",
   "metadata": {},
   "source": [
    "Can you get a lower cost by increasing the number of layers (the `p` parameter in QAOA)?\n",
    "\n",
    "How does this answer compare to classical solutions?"
   ]
  },
  {
   "cell_type": "markdown",
   "metadata": {},
   "source": [
    "## Try another problem!"
   ]
  },
  {
   "cell_type": "markdown",
   "metadata": {},
   "source": [
    "We used QAOA for the MaxCut problem above, but you can use it for many other combinatorial optimization problems. Pick one (in Qiskit Aqua) and do so!"
   ]
  }
 ],
 "metadata": {
  "kernelspec": {
   "display_name": "env_qcbq",
   "language": "python",
   "name": "env_qcbq"
  },
  "language_info": {
   "codemirror_mode": {
    "name": "ipython",
    "version": 3
   },
   "file_extension": ".py",
   "mimetype": "text/x-python",
   "name": "python",
   "nbconvert_exporter": "python",
   "pygments_lexer": "ipython3",
   "version": "3.6.8"
  }
 },
 "nbformat": 4,
 "nbformat_minor": 2
}
