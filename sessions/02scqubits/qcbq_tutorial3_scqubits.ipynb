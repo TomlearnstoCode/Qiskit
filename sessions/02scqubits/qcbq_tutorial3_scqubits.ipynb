{
 "cells": [
  {
   "cell_type": "markdown",
   "metadata": {},
   "source": [
    "<img src=\"https://www.ryanlarose.com/uploads/1/1/5/8/115879647/banner.png\">"
   ]
  },
  {
   "cell_type": "markdown",
   "metadata": {},
   "source": [
    "# Tutorial 3: Superconducting Qubits, Noise, and Decoherence"
   ]
  },
  {
   "cell_type": "markdown",
   "metadata": {},
   "source": [
    "<img src=\"https://www.researchgate.net/profile/Graham_Smetham/publication/268052917/figure/download/fig14/AS:668771421286410@1536458940555/Zureks-cartoon-the-two-truths-quantum-and-classical.jpg\">"
   ]
  },
  {
   "cell_type": "markdown",
   "metadata": {},
   "source": [
    "Many different physical systems can realize quantum bits. Among them, superconducting qubits are a current top contendor. This notebook serves as a tutorial for superconducting qubits in particular, but many concepts apply to the general qubit. We look in detail at energy dissipation and decoherence -- the quantum-to-classical transition."
   ]
  },
  {
   "cell_type": "markdown",
   "metadata": {},
   "source": [
    "## Learning goals"
   ]
  },
  {
   "cell_type": "markdown",
   "metadata": {},
   "source": [
    "(1) Understand how microwave pulses can manipulate superconducting qubits.\n",
    "\n",
    "(2) Be able to build pulse sequences in Qiskit.\n",
    "\n",
    "(3) Gain a conceptual understanding of decoherence and energy relaxation.\n",
    "\n",
    "(4) Be able to define T1 and T2 times, and set up an experiment to measure them.\n",
    "\n",
    "(5) Perform data-fitting to measure T1 and T2 times on IBM quantum devices."
   ]
  },
  {
   "cell_type": "code",
   "execution_count": null,
   "metadata": {},
   "outputs": [],
   "source": [
    "\"\"\"Imports.\"\"\"\n",
    "import matplotlib.pyplot as plt\n",
    "import numpy as np\n",
    "import scipy as scp\n",
    "\n",
    "from IPython.display import clear_output, display\n",
    "\n",
    "import qiskit.pulse as pulse\n",
    "import qiskit"
   ]
  },
  {
   "cell_type": "code",
   "execution_count": null,
   "metadata": {},
   "outputs": [],
   "source": [
    "\"\"\"Plotting style.\"\"\"\n",
    "%matplotlib inline\n",
    "plt.rcParams.update({\"font.size\": 16, \"font.weight\": \"bold\"})"
   ]
  },
  {
   "cell_type": "markdown",
   "metadata": {},
   "source": [
    "## How to manipulate qubits with pulses"
   ]
  },
  {
   "cell_type": "markdown",
   "metadata": {},
   "source": [
    "This section is fairly technical. Those with appropriate background (at least quantum mechanics) will gain a working understanding of how qubits are manipulated; those without such a background will likely not benefit from this section. For the latter, you can skip to the next section with the following message:\n",
    "\n",
    "**Big picture takeaway:** We perform quantum gates on superconducting qubits by sending microwave pulses through control lines."
   ]
  },
  {
   "cell_type": "markdown",
   "metadata": {},
   "source": [
    "### The Qubit Hamiltonian"
   ]
  },
  {
   "cell_type": "markdown",
   "metadata": {},
   "source": [
    "*Note: This section gives a brief exposition. More details can be found in Section III of this [paper](https://arxiv.org/abs/1904.06560).*"
   ]
  },
  {
   "cell_type": "markdown",
   "metadata": {},
   "source": [
    "<img src=\"https://www.laboratory-journal.com/sites/git-labor.de/files/images/special/53067172__original.jpg\" style=\"width:400px;height:300px;\">"
   ]
  },
  {
   "cell_type": "markdown",
   "metadata": {},
   "source": [
    "Like most things in physics, our starting point is a harmonic oscillator. Using Kirchoff's laws and circuit quantization techniques, one can quantize the classical LC circuit Hamiltonian to arrive at the **qubit Hamiltonian** \n",
    "\n",
    "\\begin{equation}\n",
    "    H = - \\frac{\\omega_q}{2} \\sigma_{z} + \\Omega V_d(t) \\sigma_{y} .\n",
    "\\end{equation}\n",
    "\n",
    "Here, $\\omega_q$ and $\\Omega$ are determined by parameters of the circuit (e.g., capicatance and inductance). We call $\\omega_q$ the **qubit frequency** for reasons to become apparent. The variable $V_d(t)$ is called the **drive voltage**. It is the time-dependent quantity that we vary to implement gates on the qubit. As usual, the $\\sigma$'s are Paulis\n",
    "\n",
    "\\begin{equation}\n",
    "    \\sigma_{x} := \\left[ \\begin{matrix}\n",
    "    0 & 1 \\\\\n",
    "    1 & 0 \\\\\n",
    "    \\end{matrix} \\right]\n",
    "    \\qquad\n",
    "    \\text{and}\n",
    "    \\qquad\n",
    "    \\sigma_{y} := \\left[ \\begin{matrix}\n",
    "    0 & -i \\\\\n",
    "    i & 0 \\\\\n",
    "    \\end{matrix} \\right]\n",
    "    \\qquad\n",
    "    \\text{and}\n",
    "    \\qquad\n",
    "    \\sigma_{z} := \\left[ \\begin{matrix}\n",
    "    1 & 0 \\\\\n",
    "    0 & -1 \\\\\n",
    "    \\end{matrix} \\right] .\n",
    "\\end{equation}"
   ]
  },
  {
   "cell_type": "markdown",
   "metadata": {},
   "source": [
    "### The drive Hamiltonian"
   ]
  },
  {
   "cell_type": "markdown",
   "metadata": {},
   "source": [
    "In the *rotating frame*, the **drive Hamiltonian** (second term in the qubit Hamiltonian) can be written\n",
    "\n",
    "\\begin{equation}\n",
    "    \\tilde{H}_d = \\Omega V_d(t) \\left[ \\cos (\\omega_q t) \\sigma_y - \\sin(\\omega_q t) \\sigma_x \\right]\n",
    "\\end{equation}\n",
    "\n",
    "Now, we write (without loss of generality) $V_d(t) = V_0 s(t) \\left[ \\cos( \\phi ) \\sin(\\omega_d t) + \\sin(\\phi) \\cos (\\omega_d t) \\right]$ and define\n",
    "\n",
    "\\begin{align}\n",
    "I &:= \\cos (\\phi) \\qquad \\text{(the \"in-phase\" component)} \\\\\n",
    "Q &:= \\sin (\\phi) \\qquad \\text{(the \"out-of-phase\" component)}\n",
    "\\end{align}\n",
    "\n",
    "These will be useful for analyzing single qubit operations, which we will soon do. With all of this in place, we can write the drive Hamiltonian (using the rotating wave approximation) as\n",
    "\n",
    "\\begin{equation}\n",
    "    \\tilde{H}_d = - \\frac{\\Omega}{2} V_0 s(t) \\left[ \\begin{matrix}\n",
    "    0 & e^{i (\\delta\\omega t + \\phi)} \\\\\n",
    "    e^{-i (\\delta\\omega t + \\phi)} & 0 \\\\\n",
    "    \\end{matrix} \\right]\n",
    "\\end{equation}\n",
    "\n",
    "where $\\delta\\omega := \\omega_q - \\omega_d$, i.e., the difference between the qubit and drive frequencies. *This is **the equation** for understanding single qubit gates.*"
   ]
  },
  {
   "cell_type": "markdown",
   "metadata": {},
   "source": [
    "### Implementing single qubit gates"
   ]
  },
  {
   "cell_type": "markdown",
   "metadata": {},
   "source": [
    "**Question:** Show that if we apply a pulse at the qubit frequency, i.e., $\\delta\\omega = 0$, then\n",
    "\n",
    "\\begin{equation}\n",
    "    \\tilde{H}_d = - \\frac{\\Omega}{2} V_0 s(t)( I \\phi_x + Q \\sigma_y) .\n",
    "\\end{equation}"
   ]
  },
  {
   "cell_type": "markdown",
   "metadata": {},
   "source": [
    "<font size=8 color=\"#009600\">&#9998;</font> **Answer:** Answer the above question here!"
   ]
  },
  {
   "cell_type": "markdown",
   "metadata": {},
   "source": [
    "Thus, for a pulse at the qubit frequency, an *in-phase pulse* ($\\phi = 0 \\implies Q = 0$) corresponds to rotating the qubit about the $x$-axis. Similarly, an *out-of-phase pulse* ($\\phi = \\pi / 2 \\implies I = 0$) corresponds to rotating the qubit about the $y$-axis. \n",
    "\n",
    "How long should we apply the pulse for? Solving Schrodinger's equation with, for example, the in-phase pulse above, we have\n",
    "\n",
    "\\begin{equation}\n",
    "    U(t) = \\exp \\left ( \\left[ \\frac{i}{2} \\Omega V_0 \\int_{0}^{t} s(t') \\, dt' \\right] \\sigma_x \\right) \n",
    "\\end{equation}\n",
    "\n",
    "One can see this is the standard form of an $x$-rotation with angle\n",
    "\n",
    "\\begin{equation}\n",
    "    \\Theta(t) := - \\Omega V_0 \\int_{0}^{t} s(t') \\, dt'\n",
    "\\end{equation}\n",
    "\n",
    "If we want to rotate by, say, $3 \\pi / 4$ radians about the $x$-axis, we thus solve the equation $\\Theta(t) = 3 \\pi / 4$ for time $t$ which tells us how long to apply the pulse. "
   ]
  },
  {
   "cell_type": "markdown",
   "metadata": {},
   "source": [
    "**Question**: Suppose $s(t) = - t$. (Please don't ask what waveform generator does this I'm a theorist.) How long should we apply an in-phase pulse to implement a NOT gate: i.e., a rotation about the $x$-axis by $\\pi / 2$ radians. Express your answer in terms of $\\Omega$ and $V_0$. "
   ]
  },
  {
   "cell_type": "markdown",
   "metadata": {},
   "source": [
    "<font size=8 color=\"#009600\">&#9998;</font> **Answer:** Answer the above question here!"
   ]
  },
  {
   "cell_type": "markdown",
   "metadata": {},
   "source": [
    "## Building pulse sequences in Qiskit"
   ]
  },
  {
   "cell_type": "code",
   "execution_count": null,
   "metadata": {},
   "outputs": [],
   "source": [
    "\"\"\"Load account: Only do this once.\"\"\"\n",
    "qiskit.IBMQ.load_account()"
   ]
  },
  {
   "cell_type": "code",
   "execution_count": null,
   "metadata": {},
   "outputs": [],
   "source": [
    "\"\"\"Get a provider and see available backends.\"\"\"\n",
    "provider = qiskit.IBMQ.get_provider(hub=\"ibm-q\")\n",
    "print(\"Available backends:\", *provider.backends())"
   ]
  },
  {
   "cell_type": "code",
   "execution_count": null,
   "metadata": {},
   "outputs": [],
   "source": [
    "\"\"\"Select a backend.\"\"\"\n",
    "backend = provider.get_backend(\"ibmq_vigo\")\n",
    "config = backend.configuration()\n",
    "defaults = backend.defaults()"
   ]
  },
  {
   "cell_type": "code",
   "execution_count": null,
   "metadata": {},
   "outputs": [],
   "source": [
    "config.open_pulse = True"
   ]
  },
  {
   "cell_type": "code",
   "execution_count": null,
   "metadata": {
    "scrolled": true
   },
   "outputs": [],
   "source": [
    "\"\"\"Get a pulse channel system.\"\"\"\n",
    "system = pulse.PulseChannelSpec.from_backend(backend)"
   ]
  },
  {
   "cell_type": "markdown",
   "metadata": {},
   "source": [
    "I guess I'll just import pictures of pulse schedules here..."
   ]
  },
  {
   "cell_type": "markdown",
   "metadata": {},
   "source": []
  },
  {
   "cell_type": "markdown",
   "metadata": {},
   "source": []
  },
  {
   "cell_type": "markdown",
   "metadata": {},
   "source": []
  },
  {
   "cell_type": "markdown",
   "metadata": {},
   "source": [
    "## Evaluating qubits: Measuring frequency, T1, and T2 times"
   ]
  },
  {
   "cell_type": "markdown",
   "metadata": {},
   "source": [
    "Now that we understand pulses, we can use them to investigate properties of qubits. The three properties we will investigate are **qubit frequency**, **energy dissipation**, and **decoherence**. We were already introduced to qubit frequency above: it is simply the frequency $\\omega_q := f_q / 2 \\pi$ of the qubit, or equivalently its energy $E_q = \\hbar \\omega_q$. We will first determine the frequency of a qubit, then measure energy dissipation and decoherence."
   ]
  },
  {
   "cell_type": "markdown",
   "metadata": {},
   "source": [
    "## Energy dissipation and T1"
   ]
  },
  {
   "cell_type": "markdown",
   "metadata": {},
   "source": [
    "The state $|0\\rangle$ is the ground state of the qubit, and the state $|1\\rangle$ is the excited state, meaning the qubit has more energy in this state. Due to environmental interactions (e.g., exchanging energy with a photon), a qubit in the $|1\\rangle$ state will lose energy and eventually \"decay\" into the ground state. Experimentally, this decay follows an exponential curve with exponent proportional to $1 / T_1$. \n",
    "\n",
    "Explicitly, the probability of finding an excited qubit in the ground state after time $t$ is found to be\n",
    "\n",
    "$$ p_0(t) = e^{ - t / T_1 } $$ "
   ]
  },
  {
   "cell_type": "markdown",
   "metadata": {},
   "source": [
    "### How to measure T1"
   ]
  },
  {
   "cell_type": "markdown",
   "metadata": {},
   "source": [
    "The definition of T1 suggests a simple way to measure it.\n",
    "\n",
    "1. Put the qubit in the $|1\\rangle$ (excited) state.\n",
    "1. Wait a time $t$.\n",
    "1. Measure the qubit.\n",
    "\n",
    "This is exactly how T1 times are measured in the lab. We can do the same with Qiskit."
   ]
  },
  {
   "cell_type": "markdown",
   "metadata": {},
   "source": [
    "### Pulse sequence"
   ]
  },
  {
   "cell_type": "code",
   "execution_count": null,
   "metadata": {},
   "outputs": [],
   "source": []
  },
  {
   "cell_type": "code",
   "execution_count": null,
   "metadata": {},
   "outputs": [],
   "source": []
  },
  {
   "cell_type": "markdown",
   "metadata": {},
   "source": [
    "### Raw data"
   ]
  },
  {
   "cell_type": "code",
   "execution_count": null,
   "metadata": {},
   "outputs": [],
   "source": [
    "\"\"\"Load in the raw data.\"\"\"\n",
    "T1real = 50  # microseconds\n",
    "sigma = 5.0\n",
    "times = np.linspace(0, 100, 1000)\n",
    "data = np.exp(- times / T1real) + np.random.randn(len(times)) / sigma**2"
   ]
  },
  {
   "cell_type": "code",
   "execution_count": null,
   "metadata": {},
   "outputs": [],
   "source": [
    "\"\"\"Plot the raw data.\"\"\"\n",
    "plt.figure(figsize=(12, 5))\n",
    "plt.plot(times, data, linewidth=2);\n",
    "plt.xlabel(\"Time [microseconds]\");\n",
    "plt.ylabel(\"Probability of excited state\");\n",
    "plt.title(\"T1 measurement data\")\n",
    "plt.grid();\n",
    "plt.show()"
   ]
  },
  {
   "cell_type": "markdown",
   "metadata": {},
   "source": [
    "### Fitting"
   ]
  },
  {
   "cell_type": "code",
   "execution_count": null,
   "metadata": {},
   "outputs": [],
   "source": [
    "\"\"\"Do the data fitting.\"\"\"\n",
    "def fit(time: float, T1: float) -> float:\n",
    "    return np.exp(-time / T1)  # Your code here!"
   ]
  },
  {
   "cell_type": "code",
   "execution_count": null,
   "metadata": {},
   "outputs": [],
   "source": [
    "\"\"\"Use scipy.optimize.curve_fit to fit the data.\"\"\"\n",
    "optimal_params, covariance = scp.optimize.curve_fit(fit, times, data)"
   ]
  },
  {
   "cell_type": "markdown",
   "metadata": {},
   "source": [
    "**Question:** What is your computed $T_1$ time? (Remember units!)"
   ]
  },
  {
   "cell_type": "markdown",
   "metadata": {},
   "source": [
    "<font size=8 color=\"#009600\">&#9998;</font> **Answer:** Answer the above question here!"
   ]
  },
  {
   "cell_type": "code",
   "execution_count": null,
   "metadata": {},
   "outputs": [],
   "source": [
    "\"\"\"Plot your fit over the raw data here.\"\"\"\n",
    "# Compute the fit\n",
    "fitvals = fit(times, optimal_params[0])\n",
    "\n",
    "# Plot the fit and data\n",
    "plt.figure(figsize=(12, 5))\n",
    "plt.plot(times, data, \"-.\", linewidth=2, label=\"Data\");\n",
    "plt.plot(times, fitvals, \"-\", linewidth=4, label=\"Fit\");\n",
    "plt.xlabel(\"Time [microseconds]\");\n",
    "plt.ylabel(\"Frequency of excited state\");\n",
    "plt.title(\"T1 measurement data\");\n",
    "plt.legend();\n",
    "plt.grid();\n",
    "plt.text(45, 0.8, f\"T1 = {round(optimal_params[0], 3)} microseconds\")\n",
    "plt.show()"
   ]
  },
  {
   "cell_type": "markdown",
   "metadata": {},
   "source": [
    "**Question**: Search online for IBMQ devices. What are typical T1 values for other qubits and devices? (This [link](https://github.com/Qiskit/ibmq-device-information) may be useful.)"
   ]
  },
  {
   "cell_type": "markdown",
   "metadata": {},
   "source": [
    "<font size=8 color=\"#009600\">&#9998;</font> **Answer:** Answer the above question here!"
   ]
  },
  {
   "cell_type": "code",
   "execution_count": null,
   "metadata": {},
   "outputs": [],
   "source": []
  },
  {
   "cell_type": "code",
   "execution_count": null,
   "metadata": {},
   "outputs": [],
   "source": []
  },
  {
   "cell_type": "markdown",
   "metadata": {},
   "source": [
    "## Measure T2 time"
   ]
  },
  {
   "cell_type": "markdown",
   "metadata": {},
   "source": [
    "When qubits interact with their environment, they lose more than just energy. **Coherence**, a defining feature of quantum mechanics and departure from the classical world, is the ability for \"particles\" to exist in a superposition of (basis) states. For a single qubit, a coherent state can thus be written\n",
    "\n",
    "\\begin{equation}\n",
    "    |\\psi\\rangle = \\alpha |0\\rangle + \\beta |1\\rangle .\n",
    "\\end{equation}\n",
    "\n",
    "In the density matrix formalism, we may equivalently write\n",
    "\n",
    "\\begin{equation}\n",
    "    \\rho \\equiv |\\psi\\rangle \\langle \\psi| = \\left[ \\begin{matrix} \n",
    "     |\\alpha|^2 & \\alpha \\beta^* \\\\\n",
    "     \\alpha^* \\beta & |\\beta|^2 \n",
    "    \\end{matrix} \\right]\n",
    "\\end{equation}\n",
    "\n",
    "Note that the superposition is directly responsible for the off-diagonal terms in this matrix."
   ]
  },
  {
   "cell_type": "markdown",
   "metadata": {},
   "source": [
    "**Question:** Show that the density matrix of $|\\psi\\rangle = |0\\rangle$ has off-diagonal elements equal to zero. In particular, show that the density matrix is\n",
    "\n",
    "\\begin{equation}\n",
    "    \\rho \\equiv |\\psi\\rangle \\langle \\psi| = \\left[ \\begin{matrix} \n",
    "     1 & 0 \\\\\n",
    "     0 & 0\n",
    "    \\end{matrix} \\right]\n",
    "\\end{equation}"
   ]
  },
  {
   "cell_type": "markdown",
   "metadata": {},
   "source": [
    "<font size=8 color=\"#009600\">&#9998;</font> **Answer:** Answer the above question here!"
   ]
  },
  {
   "cell_type": "markdown",
   "metadata": {},
   "source": [
    "Experimentally, coherence is found to decay exponentially. Such a loss of coherence, due to environmental interactions, is called **decoherence**. The exponent of the decay $1 / T_2$ is called the $T_2$ time. A model of the density matrix decohering can be written\n",
    "\n",
    "\\begin{equation}\n",
    "    \\rho (t) = \\left[ \\begin{matrix} \n",
    "     |\\alpha|^2 & \\alpha \\beta^* e^{- t / T_2} \\\\\n",
    "     \\alpha^* \\beta e^{-t / T_2} & |\\beta|^2 \n",
    "    \\end{matrix} \\right] .\n",
    "\\end{equation}\n",
    "\n",
    "We will now do two experiments to measure the $T_2$ time of superconducting qubits. "
   ]
  },
  {
   "cell_type": "markdown",
   "metadata": {},
   "source": [
    "## Ramsey interferometry"
   ]
  },
  {
   "cell_type": "markdown",
   "metadata": {},
   "source": [
    "### Pulse sequence"
   ]
  },
  {
   "cell_type": "markdown",
   "metadata": {},
   "source": []
  },
  {
   "cell_type": "markdown",
   "metadata": {},
   "source": [
    "### Raw data"
   ]
  },
  {
   "cell_type": "code",
   "execution_count": null,
   "metadata": {},
   "outputs": [],
   "source": [
    "\"\"\"Load in the raw data.\"\"\"\n",
    "T2 = 80\n",
    "domega = np.pi / 2\n",
    "sigma = 4.0\n",
    "times = np.linspace(0, 100, 500)  # microseconds\n",
    "data = 0.5 + 0.5 * np.cos(domega * times) * np.exp(- times / T2) + np.random.randn(len(times)) / sigma**2"
   ]
  },
  {
   "cell_type": "code",
   "execution_count": null,
   "metadata": {
    "scrolled": true
   },
   "outputs": [],
   "source": [
    "\"\"\"Plot the raw data.\"\"\"\n",
    "plt.figure(figsize=(12, 5))\n",
    "plt.scatter(times, data);\n",
    "plt.xlabel(\"Time [microseconds]\");\n",
    "plt.ylabel(\"Probability of ground state\");\n",
    "plt.title(\"Ramsey measurement data\")\n",
    "plt.grid();\n",
    "plt.show()"
   ]
  },
  {
   "cell_type": "markdown",
   "metadata": {},
   "source": [
    "### Fitting"
   ]
  },
  {
   "cell_type": "code",
   "execution_count": null,
   "metadata": {},
   "outputs": [],
   "source": [
    "\"\"\"Define the fit function.\"\"\"\n",
    "def ramsey_fit(time: float, domega: float, T2: float) -> float:\n",
    "    return 0.5 + 0.5 * np.cos(domega * times) * np.exp(- times / T2)"
   ]
  },
  {
   "cell_type": "code",
   "execution_count": null,
   "metadata": {},
   "outputs": [],
   "source": [
    "\"\"\"Do the fitting.\"\"\"\n",
    "optimal_params, covariance = scp.optimize.curve_fit(ramsey_fit, times, data)"
   ]
  },
  {
   "cell_type": "code",
   "execution_count": null,
   "metadata": {},
   "outputs": [],
   "source": [
    "\"\"\"Plot the fit and data.\"\"\"\n",
    "# Compute the fit\n",
    "fitvals = ramsey_fit(times, *optimal_params)\n",
    "\n",
    "# Do the plotting\n",
    "plt.figure(figsize=(12, 5))\n",
    "plt.plot(times, fitvals, \"-\", linewidth=4, label=\"Fit\", color=\"red\");\n",
    "plt.scatter(times, data, label=\"Data\");\n",
    "plt.xlabel(\"Time [microseconds]\");\n",
    "plt.ylabel(\"Probability of ground state\");\n",
    "plt.title(\"Ramsey measurement data\")\n",
    "plt.legend();\n",
    "plt.grid();\n",
    "plt.text(45, 1.0, f\"T2 = {round(optimal_params[1], 3)} microseconds\")\n",
    "plt.show()"
   ]
  },
  {
   "cell_type": "markdown",
   "metadata": {},
   "source": [
    "## Hahn echo"
   ]
  },
  {
   "cell_type": "markdown",
   "metadata": {},
   "source": []
  },
  {
   "cell_type": "markdown",
   "metadata": {},
   "source": [
    "### Pulse sequence"
   ]
  },
  {
   "cell_type": "code",
   "execution_count": null,
   "metadata": {},
   "outputs": [],
   "source": []
  },
  {
   "cell_type": "code",
   "execution_count": null,
   "metadata": {},
   "outputs": [],
   "source": []
  },
  {
   "cell_type": "markdown",
   "metadata": {},
   "source": [
    "### Raw data"
   ]
  },
  {
   "cell_type": "code",
   "execution_count": null,
   "metadata": {},
   "outputs": [],
   "source": [
    "\"\"\"Load in the raw data.\"\"\"\n",
    "T2 = 80\n",
    "sigma = 5.0\n",
    "times = np.linspace(0, 100, 500)  # microseconds\n",
    "data = 1 - np.exp(-times / T2) + np.random.randn(len(times)) / sigma**2"
   ]
  },
  {
   "cell_type": "code",
   "execution_count": null,
   "metadata": {},
   "outputs": [],
   "source": [
    "\"\"\"Plot the raw data.\"\"\"\n",
    "plt.figure(figsize=(12, 5))\n",
    "plt.plot(times, data);\n",
    "plt.xlabel(\"Time [microseconds]\");\n",
    "plt.ylabel(\"Frequency of ground state\");\n",
    "plt.title(\"Hahn-echo measurement data\");\n",
    "plt.grid();\n",
    "plt.show()"
   ]
  },
  {
   "cell_type": "markdown",
   "metadata": {},
   "source": [
    "### Fitting"
   ]
  },
  {
   "cell_type": "code",
   "execution_count": null,
   "metadata": {},
   "outputs": [],
   "source": []
  },
  {
   "cell_type": "code",
   "execution_count": null,
   "metadata": {},
   "outputs": [],
   "source": [
    "\"\"\"Define a fit function.\"\"\"\n",
    "def hahn_fit(time: float, T2: float) -> float:\n",
    "    return 1 - np.exp(-time / T2)  # Your code here!"
   ]
  },
  {
   "cell_type": "code",
   "execution_count": null,
   "metadata": {},
   "outputs": [],
   "source": [
    "\"\"\"Do the fitting.\"\"\"\n",
    "optimal_params, covariance = scp.optimize.curve_fit(hahn_fit, times, data)\n",
    "\n",
    "print(\"T2 =\", round(optimal_params[0], 2), \"microseconds.\")"
   ]
  },
  {
   "cell_type": "code",
   "execution_count": null,
   "metadata": {},
   "outputs": [],
   "source": [
    "\"\"\"Plot the fit function and data.\"\"\"\n",
    "# Compute the fit\n",
    "fitvals = hahn_fit(times, *optimal_params)\n",
    "\n",
    "# Plot the fit and data\n",
    "plt.figure(figsize=(12, 5))\n",
    "plt.plot(times, data, linewidth=2, label=\"Data\");\n",
    "plt.plot(times, fitvals, \"-\", linewidth=4, label=\"Fit\");\n",
    "plt.xlabel(\"Time [microseconds]\");\n",
    "plt.ylabel(\"Frequency of ground state\");\n",
    "plt.title(\"Hahn-echo measurement data\");\n",
    "plt.legend();\n",
    "plt.grid();\n",
    "plt.text(45, 0.2, f\"T2 = {round(optimal_params[0], 3)} microseconds\")\n",
    "plt.show()"
   ]
  },
  {
   "cell_type": "markdown",
   "metadata": {},
   "source": [
    "# Summary"
   ]
  },
  {
   "cell_type": "markdown",
   "metadata": {},
   "source": []
  },
  {
   "cell_type": "markdown",
   "metadata": {},
   "source": [
    "## Bloch-Redfield model"
   ]
  },
  {
   "cell_type": "code",
   "execution_count": null,
   "metadata": {},
   "outputs": [],
   "source": [
    "\"\"\"Visualize the Bloch-Redfield density matrix.\"\"\"\n",
    "def rho(t: float, \n",
    "        alpha0: complex = np.sqrt(1 / 2), \n",
    "        beta0: complex = np.sqrt(1 / 2),\n",
    "        T1: float = 40,\n",
    "        T2: float = 70) -> np.ndarray:\n",
    "    return np.array([\n",
    "        [1 + (abs(alpha0)**2 - 1) * np.exp(- t / T1), alpha0 * np.conj(beta0) * np.exp(-t / T2)],\n",
    "        [np.conj(alpha0) * beta0 * np.exp(-t / T2), abs(beta0)**2 * np.exp(-t / T1)]\n",
    "    ])"
   ]
  },
  {
   "cell_type": "code",
   "execution_count": null,
   "metadata": {},
   "outputs": [],
   "source": [
    "\"\"\"Set your parameters here!\"\"\"\n",
    "wait_time = 0.05\n",
    "tmax = 200\n",
    "nsteps = 100"
   ]
  },
  {
   "cell_type": "code",
   "execution_count": null,
   "metadata": {},
   "outputs": [],
   "source": [
    "\"\"\"Run this cell to do the animation.\"\"\"\n",
    "fig = plt.figure(figsize=(5, 5))\n",
    "ax = fig.add_subplot(1, 1, 1)\n",
    "\n",
    "for t in np.linspace(0.01, tmax, nsteps):\n",
    "    ax.cla()\n",
    "    plt.imshow(np.real(rho(t)), \n",
    "               cmap=\"Greens\",\n",
    "               vmin=0, \n",
    "               vmax=1)\n",
    "    plt.title(\"t = %0.2f microseconds\" % round(t, 2))\n",
    "    plt.colorbar()\n",
    "    plt.axis(\"off\")\n",
    "    display(fig)\n",
    "    clear_output(wait=True)\n",
    "    plt.pause(wait_time)"
   ]
  },
  {
   "cell_type": "code",
   "execution_count": null,
   "metadata": {},
   "outputs": [],
   "source": [
    "from ipywidgets import interact_manual, FloatSlider"
   ]
  },
  {
   "cell_type": "markdown",
   "metadata": {},
   "source": [
    "# Further reading and resources"
   ]
  },
  {
   "cell_type": "markdown",
   "metadata": {},
   "source": [
    "* [Quantum engineer's guide to superconducting qubits](https://arxiv.org/abs/1904.06560)\n",
    "* [Decoherence textbook](https://www.springer.com/gp/book/9783540357735)"
   ]
  }
 ],
 "metadata": {
  "kernelspec": {
   "display_name": "env_qcbq",
   "language": "python",
   "name": "env_qcbq"
  },
  "language_info": {
   "codemirror_mode": {
    "name": "ipython",
    "version": 3
   },
   "file_extension": ".py",
   "mimetype": "text/x-python",
   "name": "python",
   "nbconvert_exporter": "python",
   "pygments_lexer": "ipython3",
   "version": "3.6.8"
  }
 },
 "nbformat": 4,
 "nbformat_minor": 2
}
